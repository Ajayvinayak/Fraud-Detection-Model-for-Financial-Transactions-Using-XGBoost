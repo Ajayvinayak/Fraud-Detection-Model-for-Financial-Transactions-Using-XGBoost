{
  "nbformat": 4,
  "nbformat_minor": 0,
  "metadata": {
    "colab": {
      "provenance": []
    },
    "kernelspec": {
      "name": "python3",
      "display_name": "Python 3"
    },
    "language_info": {
      "name": "python"
    }
  },
  "cells": [
    {
      "cell_type": "code",
      "execution_count": 1,
      "metadata": {
        "id": "XpFLMImssc24"
      },
      "outputs": [],
      "source": [
        "import pandas as pd\n",
        "df = pd.read_csv('Fraud.csv')\n",
        "\n"
      ]
    },
    {
      "cell_type": "code",
      "source": [
        "df.info()\n"
      ],
      "metadata": {
        "colab": {
          "base_uri": "https://localhost:8080/"
        },
        "id": "Uz-n0s217RPa",
        "outputId": "6b0c6e49-07cb-41be-967d-a5f85aff69ab"
      },
      "execution_count": 2,
      "outputs": [
        {
          "output_type": "stream",
          "name": "stdout",
          "text": [
            "<class 'pandas.core.frame.DataFrame'>\n",
            "RangeIndex: 1023228 entries, 0 to 1023227\n",
            "Data columns (total 11 columns):\n",
            " #   Column          Non-Null Count    Dtype  \n",
            "---  ------          --------------    -----  \n",
            " 0   step            1023228 non-null  int64  \n",
            " 1   type            1023227 non-null  object \n",
            " 2   amount          1023227 non-null  float64\n",
            " 3   nameOrig        1023227 non-null  object \n",
            " 4   oldbalanceOrg   1023227 non-null  float64\n",
            " 5   newbalanceOrig  1023227 non-null  float64\n",
            " 6   nameDest        1023227 non-null  object \n",
            " 7   oldbalanceDest  1023227 non-null  float64\n",
            " 8   newbalanceDest  1023227 non-null  float64\n",
            " 9   isFraud         1023227 non-null  float64\n",
            " 10  isFlaggedFraud  1023227 non-null  float64\n",
            "dtypes: float64(7), int64(1), object(3)\n",
            "memory usage: 85.9+ MB\n"
          ]
        }
      ]
    },
    {
      "cell_type": "code",
      "source": [
        "df.describe()\n"
      ],
      "metadata": {
        "colab": {
          "base_uri": "https://localhost:8080/",
          "height": 300
        },
        "id": "Lq4aeTUY7UFH",
        "outputId": "2e236485-c1c5-4ca2-e335-ba5a0aff7388"
      },
      "execution_count": 3,
      "outputs": [
        {
          "output_type": "execute_result",
          "data": {
            "text/plain": [
              "               step        amount  oldbalanceOrg  newbalanceOrig  \\\n",
              "count  1.023228e+06  1.023227e+06   1.023227e+06    1.023227e+06   \n",
              "mean   2.563482e+01  1.590755e+05   8.771151e+05    8.977246e+05   \n",
              "std    1.289602e+01  2.588452e+05   2.980071e+06    3.017012e+06   \n",
              "min    1.000000e+00  1.000000e-01   0.000000e+00    0.000000e+00   \n",
              "25%    1.400000e+01  1.245100e+04   0.000000e+00    0.000000e+00   \n",
              "50%    2.000000e+01  7.796447e+04   1.599200e+04    0.000000e+00   \n",
              "75%    3.900000e+01  2.150968e+05   1.382742e+05    1.776956e+05   \n",
              "max    4.700000e+01  1.000000e+07   3.893942e+07    3.894623e+07   \n",
              "\n",
              "       oldbalanceDest  newbalanceDest       isFraud  isFlaggedFraud  \n",
              "count    1.023227e+06    1.023227e+06  1.023227e+06       1023227.0  \n",
              "mean     9.827178e+05    1.120304e+06  5.570611e-04             0.0  \n",
              "std      2.302247e+06    2.422310e+06  2.359558e-02             0.0  \n",
              "min      0.000000e+00    0.000000e+00  0.000000e+00             0.0  \n",
              "25%      0.000000e+00    0.000000e+00  0.000000e+00             0.0  \n",
              "50%      1.314289e+05    2.250869e+05  0.000000e+00             0.0  \n",
              "75%      9.223721e+05    1.159542e+06  0.000000e+00             0.0  \n",
              "max      4.205466e+07    4.216916e+07  1.000000e+00             0.0  "
            ],
            "text/html": [
              "\n",
              "  <div id=\"df-84596e70-f660-4586-9a56-1c4887248e89\" class=\"colab-df-container\">\n",
              "    <div>\n",
              "<style scoped>\n",
              "    .dataframe tbody tr th:only-of-type {\n",
              "        vertical-align: middle;\n",
              "    }\n",
              "\n",
              "    .dataframe tbody tr th {\n",
              "        vertical-align: top;\n",
              "    }\n",
              "\n",
              "    .dataframe thead th {\n",
              "        text-align: right;\n",
              "    }\n",
              "</style>\n",
              "<table border=\"1\" class=\"dataframe\">\n",
              "  <thead>\n",
              "    <tr style=\"text-align: right;\">\n",
              "      <th></th>\n",
              "      <th>step</th>\n",
              "      <th>amount</th>\n",
              "      <th>oldbalanceOrg</th>\n",
              "      <th>newbalanceOrig</th>\n",
              "      <th>oldbalanceDest</th>\n",
              "      <th>newbalanceDest</th>\n",
              "      <th>isFraud</th>\n",
              "      <th>isFlaggedFraud</th>\n",
              "    </tr>\n",
              "  </thead>\n",
              "  <tbody>\n",
              "    <tr>\n",
              "      <th>count</th>\n",
              "      <td>1.023228e+06</td>\n",
              "      <td>1.023227e+06</td>\n",
              "      <td>1.023227e+06</td>\n",
              "      <td>1.023227e+06</td>\n",
              "      <td>1.023227e+06</td>\n",
              "      <td>1.023227e+06</td>\n",
              "      <td>1.023227e+06</td>\n",
              "      <td>1023227.0</td>\n",
              "    </tr>\n",
              "    <tr>\n",
              "      <th>mean</th>\n",
              "      <td>2.563482e+01</td>\n",
              "      <td>1.590755e+05</td>\n",
              "      <td>8.771151e+05</td>\n",
              "      <td>8.977246e+05</td>\n",
              "      <td>9.827178e+05</td>\n",
              "      <td>1.120304e+06</td>\n",
              "      <td>5.570611e-04</td>\n",
              "      <td>0.0</td>\n",
              "    </tr>\n",
              "    <tr>\n",
              "      <th>std</th>\n",
              "      <td>1.289602e+01</td>\n",
              "      <td>2.588452e+05</td>\n",
              "      <td>2.980071e+06</td>\n",
              "      <td>3.017012e+06</td>\n",
              "      <td>2.302247e+06</td>\n",
              "      <td>2.422310e+06</td>\n",
              "      <td>2.359558e-02</td>\n",
              "      <td>0.0</td>\n",
              "    </tr>\n",
              "    <tr>\n",
              "      <th>min</th>\n",
              "      <td>1.000000e+00</td>\n",
              "      <td>1.000000e-01</td>\n",
              "      <td>0.000000e+00</td>\n",
              "      <td>0.000000e+00</td>\n",
              "      <td>0.000000e+00</td>\n",
              "      <td>0.000000e+00</td>\n",
              "      <td>0.000000e+00</td>\n",
              "      <td>0.0</td>\n",
              "    </tr>\n",
              "    <tr>\n",
              "      <th>25%</th>\n",
              "      <td>1.400000e+01</td>\n",
              "      <td>1.245100e+04</td>\n",
              "      <td>0.000000e+00</td>\n",
              "      <td>0.000000e+00</td>\n",
              "      <td>0.000000e+00</td>\n",
              "      <td>0.000000e+00</td>\n",
              "      <td>0.000000e+00</td>\n",
              "      <td>0.0</td>\n",
              "    </tr>\n",
              "    <tr>\n",
              "      <th>50%</th>\n",
              "      <td>2.000000e+01</td>\n",
              "      <td>7.796447e+04</td>\n",
              "      <td>1.599200e+04</td>\n",
              "      <td>0.000000e+00</td>\n",
              "      <td>1.314289e+05</td>\n",
              "      <td>2.250869e+05</td>\n",
              "      <td>0.000000e+00</td>\n",
              "      <td>0.0</td>\n",
              "    </tr>\n",
              "    <tr>\n",
              "      <th>75%</th>\n",
              "      <td>3.900000e+01</td>\n",
              "      <td>2.150968e+05</td>\n",
              "      <td>1.382742e+05</td>\n",
              "      <td>1.776956e+05</td>\n",
              "      <td>9.223721e+05</td>\n",
              "      <td>1.159542e+06</td>\n",
              "      <td>0.000000e+00</td>\n",
              "      <td>0.0</td>\n",
              "    </tr>\n",
              "    <tr>\n",
              "      <th>max</th>\n",
              "      <td>4.700000e+01</td>\n",
              "      <td>1.000000e+07</td>\n",
              "      <td>3.893942e+07</td>\n",
              "      <td>3.894623e+07</td>\n",
              "      <td>4.205466e+07</td>\n",
              "      <td>4.216916e+07</td>\n",
              "      <td>1.000000e+00</td>\n",
              "      <td>0.0</td>\n",
              "    </tr>\n",
              "  </tbody>\n",
              "</table>\n",
              "</div>\n",
              "    <div class=\"colab-df-buttons\">\n",
              "\n",
              "  <div class=\"colab-df-container\">\n",
              "    <button class=\"colab-df-convert\" onclick=\"convertToInteractive('df-84596e70-f660-4586-9a56-1c4887248e89')\"\n",
              "            title=\"Convert this dataframe to an interactive table.\"\n",
              "            style=\"display:none;\">\n",
              "\n",
              "  <svg xmlns=\"http://www.w3.org/2000/svg\" height=\"24px\" viewBox=\"0 -960 960 960\">\n",
              "    <path d=\"M120-120v-720h720v720H120Zm60-500h600v-160H180v160Zm220 220h160v-160H400v160Zm0 220h160v-160H400v160ZM180-400h160v-160H180v160Zm440 0h160v-160H620v160ZM180-180h160v-160H180v160Zm440 0h160v-160H620v160Z\"/>\n",
              "  </svg>\n",
              "    </button>\n",
              "\n",
              "  <style>\n",
              "    .colab-df-container {\n",
              "      display:flex;\n",
              "      gap: 12px;\n",
              "    }\n",
              "\n",
              "    .colab-df-convert {\n",
              "      background-color: #E8F0FE;\n",
              "      border: none;\n",
              "      border-radius: 50%;\n",
              "      cursor: pointer;\n",
              "      display: none;\n",
              "      fill: #1967D2;\n",
              "      height: 32px;\n",
              "      padding: 0 0 0 0;\n",
              "      width: 32px;\n",
              "    }\n",
              "\n",
              "    .colab-df-convert:hover {\n",
              "      background-color: #E2EBFA;\n",
              "      box-shadow: 0px 1px 2px rgba(60, 64, 67, 0.3), 0px 1px 3px 1px rgba(60, 64, 67, 0.15);\n",
              "      fill: #174EA6;\n",
              "    }\n",
              "\n",
              "    .colab-df-buttons div {\n",
              "      margin-bottom: 4px;\n",
              "    }\n",
              "\n",
              "    [theme=dark] .colab-df-convert {\n",
              "      background-color: #3B4455;\n",
              "      fill: #D2E3FC;\n",
              "    }\n",
              "\n",
              "    [theme=dark] .colab-df-convert:hover {\n",
              "      background-color: #434B5C;\n",
              "      box-shadow: 0px 1px 3px 1px rgba(0, 0, 0, 0.15);\n",
              "      filter: drop-shadow(0px 1px 2px rgba(0, 0, 0, 0.3));\n",
              "      fill: #FFFFFF;\n",
              "    }\n",
              "  </style>\n",
              "\n",
              "    <script>\n",
              "      const buttonEl =\n",
              "        document.querySelector('#df-84596e70-f660-4586-9a56-1c4887248e89 button.colab-df-convert');\n",
              "      buttonEl.style.display =\n",
              "        google.colab.kernel.accessAllowed ? 'block' : 'none';\n",
              "\n",
              "      async function convertToInteractive(key) {\n",
              "        const element = document.querySelector('#df-84596e70-f660-4586-9a56-1c4887248e89');\n",
              "        const dataTable =\n",
              "          await google.colab.kernel.invokeFunction('convertToInteractive',\n",
              "                                                    [key], {});\n",
              "        if (!dataTable) return;\n",
              "\n",
              "        const docLinkHtml = 'Like what you see? Visit the ' +\n",
              "          '<a target=\"_blank\" href=https://colab.research.google.com/notebooks/data_table.ipynb>data table notebook</a>'\n",
              "          + ' to learn more about interactive tables.';\n",
              "        element.innerHTML = '';\n",
              "        dataTable['output_type'] = 'display_data';\n",
              "        await google.colab.output.renderOutput(dataTable, element);\n",
              "        const docLink = document.createElement('div');\n",
              "        docLink.innerHTML = docLinkHtml;\n",
              "        element.appendChild(docLink);\n",
              "      }\n",
              "    </script>\n",
              "  </div>\n",
              "\n",
              "\n",
              "    <div id=\"df-f9053bb6-9c39-4908-bf33-da632059acc7\">\n",
              "      <button class=\"colab-df-quickchart\" onclick=\"quickchart('df-f9053bb6-9c39-4908-bf33-da632059acc7')\"\n",
              "                title=\"Suggest charts\"\n",
              "                style=\"display:none;\">\n",
              "\n",
              "<svg xmlns=\"http://www.w3.org/2000/svg\" height=\"24px\"viewBox=\"0 0 24 24\"\n",
              "     width=\"24px\">\n",
              "    <g>\n",
              "        <path d=\"M19 3H5c-1.1 0-2 .9-2 2v14c0 1.1.9 2 2 2h14c1.1 0 2-.9 2-2V5c0-1.1-.9-2-2-2zM9 17H7v-7h2v7zm4 0h-2V7h2v10zm4 0h-2v-4h2v4z\"/>\n",
              "    </g>\n",
              "</svg>\n",
              "      </button>\n",
              "\n",
              "<style>\n",
              "  .colab-df-quickchart {\n",
              "      --bg-color: #E8F0FE;\n",
              "      --fill-color: #1967D2;\n",
              "      --hover-bg-color: #E2EBFA;\n",
              "      --hover-fill-color: #174EA6;\n",
              "      --disabled-fill-color: #AAA;\n",
              "      --disabled-bg-color: #DDD;\n",
              "  }\n",
              "\n",
              "  [theme=dark] .colab-df-quickchart {\n",
              "      --bg-color: #3B4455;\n",
              "      --fill-color: #D2E3FC;\n",
              "      --hover-bg-color: #434B5C;\n",
              "      --hover-fill-color: #FFFFFF;\n",
              "      --disabled-bg-color: #3B4455;\n",
              "      --disabled-fill-color: #666;\n",
              "  }\n",
              "\n",
              "  .colab-df-quickchart {\n",
              "    background-color: var(--bg-color);\n",
              "    border: none;\n",
              "    border-radius: 50%;\n",
              "    cursor: pointer;\n",
              "    display: none;\n",
              "    fill: var(--fill-color);\n",
              "    height: 32px;\n",
              "    padding: 0;\n",
              "    width: 32px;\n",
              "  }\n",
              "\n",
              "  .colab-df-quickchart:hover {\n",
              "    background-color: var(--hover-bg-color);\n",
              "    box-shadow: 0 1px 2px rgba(60, 64, 67, 0.3), 0 1px 3px 1px rgba(60, 64, 67, 0.15);\n",
              "    fill: var(--button-hover-fill-color);\n",
              "  }\n",
              "\n",
              "  .colab-df-quickchart-complete:disabled,\n",
              "  .colab-df-quickchart-complete:disabled:hover {\n",
              "    background-color: var(--disabled-bg-color);\n",
              "    fill: var(--disabled-fill-color);\n",
              "    box-shadow: none;\n",
              "  }\n",
              "\n",
              "  .colab-df-spinner {\n",
              "    border: 2px solid var(--fill-color);\n",
              "    border-color: transparent;\n",
              "    border-bottom-color: var(--fill-color);\n",
              "    animation:\n",
              "      spin 1s steps(1) infinite;\n",
              "  }\n",
              "\n",
              "  @keyframes spin {\n",
              "    0% {\n",
              "      border-color: transparent;\n",
              "      border-bottom-color: var(--fill-color);\n",
              "      border-left-color: var(--fill-color);\n",
              "    }\n",
              "    20% {\n",
              "      border-color: transparent;\n",
              "      border-left-color: var(--fill-color);\n",
              "      border-top-color: var(--fill-color);\n",
              "    }\n",
              "    30% {\n",
              "      border-color: transparent;\n",
              "      border-left-color: var(--fill-color);\n",
              "      border-top-color: var(--fill-color);\n",
              "      border-right-color: var(--fill-color);\n",
              "    }\n",
              "    40% {\n",
              "      border-color: transparent;\n",
              "      border-right-color: var(--fill-color);\n",
              "      border-top-color: var(--fill-color);\n",
              "    }\n",
              "    60% {\n",
              "      border-color: transparent;\n",
              "      border-right-color: var(--fill-color);\n",
              "    }\n",
              "    80% {\n",
              "      border-color: transparent;\n",
              "      border-right-color: var(--fill-color);\n",
              "      border-bottom-color: var(--fill-color);\n",
              "    }\n",
              "    90% {\n",
              "      border-color: transparent;\n",
              "      border-bottom-color: var(--fill-color);\n",
              "    }\n",
              "  }\n",
              "</style>\n",
              "\n",
              "      <script>\n",
              "        async function quickchart(key) {\n",
              "          const quickchartButtonEl =\n",
              "            document.querySelector('#' + key + ' button');\n",
              "          quickchartButtonEl.disabled = true;  // To prevent multiple clicks.\n",
              "          quickchartButtonEl.classList.add('colab-df-spinner');\n",
              "          try {\n",
              "            const charts = await google.colab.kernel.invokeFunction(\n",
              "                'suggestCharts', [key], {});\n",
              "          } catch (error) {\n",
              "            console.error('Error during call to suggestCharts:', error);\n",
              "          }\n",
              "          quickchartButtonEl.classList.remove('colab-df-spinner');\n",
              "          quickchartButtonEl.classList.add('colab-df-quickchart-complete');\n",
              "        }\n",
              "        (() => {\n",
              "          let quickchartButtonEl =\n",
              "            document.querySelector('#df-f9053bb6-9c39-4908-bf33-da632059acc7 button');\n",
              "          quickchartButtonEl.style.display =\n",
              "            google.colab.kernel.accessAllowed ? 'block' : 'none';\n",
              "        })();\n",
              "      </script>\n",
              "    </div>\n",
              "\n",
              "    </div>\n",
              "  </div>\n"
            ],
            "application/vnd.google.colaboratory.intrinsic+json": {
              "type": "dataframe",
              "summary": "{\n  \"name\": \"df\",\n  \"rows\": 8,\n  \"fields\": [\n    {\n      \"column\": \"step\",\n      \"properties\": {\n        \"dtype\": \"number\",\n        \"std\": 361757.6715248377,\n        \"min\": 1.0,\n        \"max\": 1023228.0,\n        \"num_unique_values\": 8,\n        \"samples\": [\n          25.6348213692354,\n          20.0,\n          1023228.0\n        ],\n        \"semantic_type\": \"\",\n        \"description\": \"\"\n      }\n    },\n    {\n      \"column\": \"amount\",\n      \"properties\": {\n        \"dtype\": \"number\",\n        \"std\": 3462942.523455066,\n        \"min\": 0.1,\n        \"max\": 10000000.0,\n        \"num_unique_values\": 8,\n        \"samples\": [\n          159075.53426058928,\n          77964.47,\n          1023227.0\n        ],\n        \"semantic_type\": \"\",\n        \"description\": \"\"\n      }\n    },\n    {\n      \"column\": \"oldbalanceOrg\",\n      \"properties\": {\n        \"dtype\": \"number\",\n        \"std\": 13550329.706398968,\n        \"min\": 0.0,\n        \"max\": 38939424.03,\n        \"num_unique_values\": 7,\n        \"samples\": [\n          1023227.0,\n          877115.1018620706,\n          138274.22499999998\n        ],\n        \"semantic_type\": \"\",\n        \"description\": \"\"\n      }\n    },\n    {\n      \"column\": \"newbalanceOrig\",\n      \"properties\": {\n        \"dtype\": \"number\",\n        \"std\": 13549457.61307759,\n        \"min\": 0.0,\n        \"max\": 38946233.02,\n        \"num_unique_values\": 6,\n        \"samples\": [\n          1023227.0,\n          897724.6320503464,\n          38946233.02\n        ],\n        \"semantic_type\": \"\",\n        \"description\": \"\"\n      }\n    },\n    {\n      \"column\": \"oldbalanceDest\",\n      \"properties\": {\n        \"dtype\": \"number\",\n        \"std\": 14617666.17603909,\n        \"min\": 0.0,\n        \"max\": 42054659.73,\n        \"num_unique_values\": 7,\n        \"samples\": [\n          1023227.0,\n          982717.8463679128,\n          922372.0700000001\n        ],\n        \"semantic_type\": \"\",\n        \"description\": \"\"\n      }\n    },\n    {\n      \"column\": \"newbalanceDest\",\n      \"properties\": {\n        \"dtype\": \"number\",\n        \"std\": 14630522.313129589,\n        \"min\": 0.0,\n        \"max\": 42169156.09,\n        \"num_unique_values\": 7,\n        \"samples\": [\n          1023227.0,\n          1120304.4199064723,\n          1159542.365\n        ],\n        \"semantic_type\": \"\",\n        \"description\": \"\"\n      }\n    },\n    {\n      \"column\": \"isFraud\",\n      \"properties\": {\n        \"dtype\": \"number\",\n        \"std\": 361765.32346923195,\n        \"min\": 0.0,\n        \"max\": 1023227.0,\n        \"num_unique_values\": 5,\n        \"samples\": [\n          0.0005570611408807625,\n          1.0,\n          0.023595579413765333\n        ],\n        \"semantic_type\": \"\",\n        \"description\": \"\"\n      }\n    },\n    {\n      \"column\": \"isFlaggedFraud\",\n      \"properties\": {\n        \"dtype\": \"number\",\n        \"std\": 361765.37519658374,\n        \"min\": 0.0,\n        \"max\": 1023227.0,\n        \"num_unique_values\": 2,\n        \"samples\": [\n          0.0,\n          1023227.0\n        ],\n        \"semantic_type\": \"\",\n        \"description\": \"\"\n      }\n    }\n  ]\n}"
            }
          },
          "metadata": {},
          "execution_count": 3
        }
      ]
    },
    {
      "cell_type": "code",
      "source": [
        "df.head(10)"
      ],
      "metadata": {
        "colab": {
          "base_uri": "https://localhost:8080/",
          "height": 383
        },
        "id": "k7xrUHasDGoG",
        "outputId": "d0822fb3-3d97-4925-b9d2-2d336d7cfb0c"
      },
      "execution_count": 4,
      "outputs": [
        {
          "output_type": "execute_result",
          "data": {
            "text/plain": [
              "   step      type    amount     nameOrig  oldbalanceOrg  newbalanceOrig  \\\n",
              "0     1   PAYMENT   9839.64  C1231006815      170136.00       160296.36   \n",
              "1     1   PAYMENT   1864.28  C1666544295       21249.00        19384.72   \n",
              "2     1  TRANSFER    181.00  C1305486145         181.00            0.00   \n",
              "3     1  CASH_OUT    181.00   C840083671         181.00            0.00   \n",
              "4     1   PAYMENT  11668.14  C2048537720       41554.00        29885.86   \n",
              "5     1   PAYMENT   7817.71    C90045638       53860.00        46042.29   \n",
              "6     1   PAYMENT   7107.77   C154988899      183195.00       176087.23   \n",
              "7     1   PAYMENT   7861.64  C1912850431      176087.23       168225.59   \n",
              "8     1   PAYMENT   4024.36  C1265012928        2671.00            0.00   \n",
              "9     1     DEBIT   5337.77   C712410124       41720.00        36382.23   \n",
              "\n",
              "      nameDest  oldbalanceDest  newbalanceDest  isFraud  isFlaggedFraud  \n",
              "0  M1979787155             0.0            0.00      0.0             0.0  \n",
              "1  M2044282225             0.0            0.00      0.0             0.0  \n",
              "2   C553264065             0.0            0.00      1.0             0.0  \n",
              "3    C38997010         21182.0            0.00      1.0             0.0  \n",
              "4  M1230701703             0.0            0.00      0.0             0.0  \n",
              "5   M573487274             0.0            0.00      0.0             0.0  \n",
              "6   M408069119             0.0            0.00      0.0             0.0  \n",
              "7   M633326333             0.0            0.00      0.0             0.0  \n",
              "8  M1176932104             0.0            0.00      0.0             0.0  \n",
              "9   C195600860         41898.0        40348.79      0.0             0.0  "
            ],
            "text/html": [
              "\n",
              "  <div id=\"df-0570fcc2-a08c-4e1e-a5f1-4b2d35e9a891\" class=\"colab-df-container\">\n",
              "    <div>\n",
              "<style scoped>\n",
              "    .dataframe tbody tr th:only-of-type {\n",
              "        vertical-align: middle;\n",
              "    }\n",
              "\n",
              "    .dataframe tbody tr th {\n",
              "        vertical-align: top;\n",
              "    }\n",
              "\n",
              "    .dataframe thead th {\n",
              "        text-align: right;\n",
              "    }\n",
              "</style>\n",
              "<table border=\"1\" class=\"dataframe\">\n",
              "  <thead>\n",
              "    <tr style=\"text-align: right;\">\n",
              "      <th></th>\n",
              "      <th>step</th>\n",
              "      <th>type</th>\n",
              "      <th>amount</th>\n",
              "      <th>nameOrig</th>\n",
              "      <th>oldbalanceOrg</th>\n",
              "      <th>newbalanceOrig</th>\n",
              "      <th>nameDest</th>\n",
              "      <th>oldbalanceDest</th>\n",
              "      <th>newbalanceDest</th>\n",
              "      <th>isFraud</th>\n",
              "      <th>isFlaggedFraud</th>\n",
              "    </tr>\n",
              "  </thead>\n",
              "  <tbody>\n",
              "    <tr>\n",
              "      <th>0</th>\n",
              "      <td>1</td>\n",
              "      <td>PAYMENT</td>\n",
              "      <td>9839.64</td>\n",
              "      <td>C1231006815</td>\n",
              "      <td>170136.00</td>\n",
              "      <td>160296.36</td>\n",
              "      <td>M1979787155</td>\n",
              "      <td>0.0</td>\n",
              "      <td>0.00</td>\n",
              "      <td>0.0</td>\n",
              "      <td>0.0</td>\n",
              "    </tr>\n",
              "    <tr>\n",
              "      <th>1</th>\n",
              "      <td>1</td>\n",
              "      <td>PAYMENT</td>\n",
              "      <td>1864.28</td>\n",
              "      <td>C1666544295</td>\n",
              "      <td>21249.00</td>\n",
              "      <td>19384.72</td>\n",
              "      <td>M2044282225</td>\n",
              "      <td>0.0</td>\n",
              "      <td>0.00</td>\n",
              "      <td>0.0</td>\n",
              "      <td>0.0</td>\n",
              "    </tr>\n",
              "    <tr>\n",
              "      <th>2</th>\n",
              "      <td>1</td>\n",
              "      <td>TRANSFER</td>\n",
              "      <td>181.00</td>\n",
              "      <td>C1305486145</td>\n",
              "      <td>181.00</td>\n",
              "      <td>0.00</td>\n",
              "      <td>C553264065</td>\n",
              "      <td>0.0</td>\n",
              "      <td>0.00</td>\n",
              "      <td>1.0</td>\n",
              "      <td>0.0</td>\n",
              "    </tr>\n",
              "    <tr>\n",
              "      <th>3</th>\n",
              "      <td>1</td>\n",
              "      <td>CASH_OUT</td>\n",
              "      <td>181.00</td>\n",
              "      <td>C840083671</td>\n",
              "      <td>181.00</td>\n",
              "      <td>0.00</td>\n",
              "      <td>C38997010</td>\n",
              "      <td>21182.0</td>\n",
              "      <td>0.00</td>\n",
              "      <td>1.0</td>\n",
              "      <td>0.0</td>\n",
              "    </tr>\n",
              "    <tr>\n",
              "      <th>4</th>\n",
              "      <td>1</td>\n",
              "      <td>PAYMENT</td>\n",
              "      <td>11668.14</td>\n",
              "      <td>C2048537720</td>\n",
              "      <td>41554.00</td>\n",
              "      <td>29885.86</td>\n",
              "      <td>M1230701703</td>\n",
              "      <td>0.0</td>\n",
              "      <td>0.00</td>\n",
              "      <td>0.0</td>\n",
              "      <td>0.0</td>\n",
              "    </tr>\n",
              "    <tr>\n",
              "      <th>5</th>\n",
              "      <td>1</td>\n",
              "      <td>PAYMENT</td>\n",
              "      <td>7817.71</td>\n",
              "      <td>C90045638</td>\n",
              "      <td>53860.00</td>\n",
              "      <td>46042.29</td>\n",
              "      <td>M573487274</td>\n",
              "      <td>0.0</td>\n",
              "      <td>0.00</td>\n",
              "      <td>0.0</td>\n",
              "      <td>0.0</td>\n",
              "    </tr>\n",
              "    <tr>\n",
              "      <th>6</th>\n",
              "      <td>1</td>\n",
              "      <td>PAYMENT</td>\n",
              "      <td>7107.77</td>\n",
              "      <td>C154988899</td>\n",
              "      <td>183195.00</td>\n",
              "      <td>176087.23</td>\n",
              "      <td>M408069119</td>\n",
              "      <td>0.0</td>\n",
              "      <td>0.00</td>\n",
              "      <td>0.0</td>\n",
              "      <td>0.0</td>\n",
              "    </tr>\n",
              "    <tr>\n",
              "      <th>7</th>\n",
              "      <td>1</td>\n",
              "      <td>PAYMENT</td>\n",
              "      <td>7861.64</td>\n",
              "      <td>C1912850431</td>\n",
              "      <td>176087.23</td>\n",
              "      <td>168225.59</td>\n",
              "      <td>M633326333</td>\n",
              "      <td>0.0</td>\n",
              "      <td>0.00</td>\n",
              "      <td>0.0</td>\n",
              "      <td>0.0</td>\n",
              "    </tr>\n",
              "    <tr>\n",
              "      <th>8</th>\n",
              "      <td>1</td>\n",
              "      <td>PAYMENT</td>\n",
              "      <td>4024.36</td>\n",
              "      <td>C1265012928</td>\n",
              "      <td>2671.00</td>\n",
              "      <td>0.00</td>\n",
              "      <td>M1176932104</td>\n",
              "      <td>0.0</td>\n",
              "      <td>0.00</td>\n",
              "      <td>0.0</td>\n",
              "      <td>0.0</td>\n",
              "    </tr>\n",
              "    <tr>\n",
              "      <th>9</th>\n",
              "      <td>1</td>\n",
              "      <td>DEBIT</td>\n",
              "      <td>5337.77</td>\n",
              "      <td>C712410124</td>\n",
              "      <td>41720.00</td>\n",
              "      <td>36382.23</td>\n",
              "      <td>C195600860</td>\n",
              "      <td>41898.0</td>\n",
              "      <td>40348.79</td>\n",
              "      <td>0.0</td>\n",
              "      <td>0.0</td>\n",
              "    </tr>\n",
              "  </tbody>\n",
              "</table>\n",
              "</div>\n",
              "    <div class=\"colab-df-buttons\">\n",
              "\n",
              "  <div class=\"colab-df-container\">\n",
              "    <button class=\"colab-df-convert\" onclick=\"convertToInteractive('df-0570fcc2-a08c-4e1e-a5f1-4b2d35e9a891')\"\n",
              "            title=\"Convert this dataframe to an interactive table.\"\n",
              "            style=\"display:none;\">\n",
              "\n",
              "  <svg xmlns=\"http://www.w3.org/2000/svg\" height=\"24px\" viewBox=\"0 -960 960 960\">\n",
              "    <path d=\"M120-120v-720h720v720H120Zm60-500h600v-160H180v160Zm220 220h160v-160H400v160Zm0 220h160v-160H400v160ZM180-400h160v-160H180v160Zm440 0h160v-160H620v160ZM180-180h160v-160H180v160Zm440 0h160v-160H620v160Z\"/>\n",
              "  </svg>\n",
              "    </button>\n",
              "\n",
              "  <style>\n",
              "    .colab-df-container {\n",
              "      display:flex;\n",
              "      gap: 12px;\n",
              "    }\n",
              "\n",
              "    .colab-df-convert {\n",
              "      background-color: #E8F0FE;\n",
              "      border: none;\n",
              "      border-radius: 50%;\n",
              "      cursor: pointer;\n",
              "      display: none;\n",
              "      fill: #1967D2;\n",
              "      height: 32px;\n",
              "      padding: 0 0 0 0;\n",
              "      width: 32px;\n",
              "    }\n",
              "\n",
              "    .colab-df-convert:hover {\n",
              "      background-color: #E2EBFA;\n",
              "      box-shadow: 0px 1px 2px rgba(60, 64, 67, 0.3), 0px 1px 3px 1px rgba(60, 64, 67, 0.15);\n",
              "      fill: #174EA6;\n",
              "    }\n",
              "\n",
              "    .colab-df-buttons div {\n",
              "      margin-bottom: 4px;\n",
              "    }\n",
              "\n",
              "    [theme=dark] .colab-df-convert {\n",
              "      background-color: #3B4455;\n",
              "      fill: #D2E3FC;\n",
              "    }\n",
              "\n",
              "    [theme=dark] .colab-df-convert:hover {\n",
              "      background-color: #434B5C;\n",
              "      box-shadow: 0px 1px 3px 1px rgba(0, 0, 0, 0.15);\n",
              "      filter: drop-shadow(0px 1px 2px rgba(0, 0, 0, 0.3));\n",
              "      fill: #FFFFFF;\n",
              "    }\n",
              "  </style>\n",
              "\n",
              "    <script>\n",
              "      const buttonEl =\n",
              "        document.querySelector('#df-0570fcc2-a08c-4e1e-a5f1-4b2d35e9a891 button.colab-df-convert');\n",
              "      buttonEl.style.display =\n",
              "        google.colab.kernel.accessAllowed ? 'block' : 'none';\n",
              "\n",
              "      async function convertToInteractive(key) {\n",
              "        const element = document.querySelector('#df-0570fcc2-a08c-4e1e-a5f1-4b2d35e9a891');\n",
              "        const dataTable =\n",
              "          await google.colab.kernel.invokeFunction('convertToInteractive',\n",
              "                                                    [key], {});\n",
              "        if (!dataTable) return;\n",
              "\n",
              "        const docLinkHtml = 'Like what you see? Visit the ' +\n",
              "          '<a target=\"_blank\" href=https://colab.research.google.com/notebooks/data_table.ipynb>data table notebook</a>'\n",
              "          + ' to learn more about interactive tables.';\n",
              "        element.innerHTML = '';\n",
              "        dataTable['output_type'] = 'display_data';\n",
              "        await google.colab.output.renderOutput(dataTable, element);\n",
              "        const docLink = document.createElement('div');\n",
              "        docLink.innerHTML = docLinkHtml;\n",
              "        element.appendChild(docLink);\n",
              "      }\n",
              "    </script>\n",
              "  </div>\n",
              "\n",
              "\n",
              "    <div id=\"df-a51ba61b-dc89-43d1-9450-519533b5ac45\">\n",
              "      <button class=\"colab-df-quickchart\" onclick=\"quickchart('df-a51ba61b-dc89-43d1-9450-519533b5ac45')\"\n",
              "                title=\"Suggest charts\"\n",
              "                style=\"display:none;\">\n",
              "\n",
              "<svg xmlns=\"http://www.w3.org/2000/svg\" height=\"24px\"viewBox=\"0 0 24 24\"\n",
              "     width=\"24px\">\n",
              "    <g>\n",
              "        <path d=\"M19 3H5c-1.1 0-2 .9-2 2v14c0 1.1.9 2 2 2h14c1.1 0 2-.9 2-2V5c0-1.1-.9-2-2-2zM9 17H7v-7h2v7zm4 0h-2V7h2v10zm4 0h-2v-4h2v4z\"/>\n",
              "    </g>\n",
              "</svg>\n",
              "      </button>\n",
              "\n",
              "<style>\n",
              "  .colab-df-quickchart {\n",
              "      --bg-color: #E8F0FE;\n",
              "      --fill-color: #1967D2;\n",
              "      --hover-bg-color: #E2EBFA;\n",
              "      --hover-fill-color: #174EA6;\n",
              "      --disabled-fill-color: #AAA;\n",
              "      --disabled-bg-color: #DDD;\n",
              "  }\n",
              "\n",
              "  [theme=dark] .colab-df-quickchart {\n",
              "      --bg-color: #3B4455;\n",
              "      --fill-color: #D2E3FC;\n",
              "      --hover-bg-color: #434B5C;\n",
              "      --hover-fill-color: #FFFFFF;\n",
              "      --disabled-bg-color: #3B4455;\n",
              "      --disabled-fill-color: #666;\n",
              "  }\n",
              "\n",
              "  .colab-df-quickchart {\n",
              "    background-color: var(--bg-color);\n",
              "    border: none;\n",
              "    border-radius: 50%;\n",
              "    cursor: pointer;\n",
              "    display: none;\n",
              "    fill: var(--fill-color);\n",
              "    height: 32px;\n",
              "    padding: 0;\n",
              "    width: 32px;\n",
              "  }\n",
              "\n",
              "  .colab-df-quickchart:hover {\n",
              "    background-color: var(--hover-bg-color);\n",
              "    box-shadow: 0 1px 2px rgba(60, 64, 67, 0.3), 0 1px 3px 1px rgba(60, 64, 67, 0.15);\n",
              "    fill: var(--button-hover-fill-color);\n",
              "  }\n",
              "\n",
              "  .colab-df-quickchart-complete:disabled,\n",
              "  .colab-df-quickchart-complete:disabled:hover {\n",
              "    background-color: var(--disabled-bg-color);\n",
              "    fill: var(--disabled-fill-color);\n",
              "    box-shadow: none;\n",
              "  }\n",
              "\n",
              "  .colab-df-spinner {\n",
              "    border: 2px solid var(--fill-color);\n",
              "    border-color: transparent;\n",
              "    border-bottom-color: var(--fill-color);\n",
              "    animation:\n",
              "      spin 1s steps(1) infinite;\n",
              "  }\n",
              "\n",
              "  @keyframes spin {\n",
              "    0% {\n",
              "      border-color: transparent;\n",
              "      border-bottom-color: var(--fill-color);\n",
              "      border-left-color: var(--fill-color);\n",
              "    }\n",
              "    20% {\n",
              "      border-color: transparent;\n",
              "      border-left-color: var(--fill-color);\n",
              "      border-top-color: var(--fill-color);\n",
              "    }\n",
              "    30% {\n",
              "      border-color: transparent;\n",
              "      border-left-color: var(--fill-color);\n",
              "      border-top-color: var(--fill-color);\n",
              "      border-right-color: var(--fill-color);\n",
              "    }\n",
              "    40% {\n",
              "      border-color: transparent;\n",
              "      border-right-color: var(--fill-color);\n",
              "      border-top-color: var(--fill-color);\n",
              "    }\n",
              "    60% {\n",
              "      border-color: transparent;\n",
              "      border-right-color: var(--fill-color);\n",
              "    }\n",
              "    80% {\n",
              "      border-color: transparent;\n",
              "      border-right-color: var(--fill-color);\n",
              "      border-bottom-color: var(--fill-color);\n",
              "    }\n",
              "    90% {\n",
              "      border-color: transparent;\n",
              "      border-bottom-color: var(--fill-color);\n",
              "    }\n",
              "  }\n",
              "</style>\n",
              "\n",
              "      <script>\n",
              "        async function quickchart(key) {\n",
              "          const quickchartButtonEl =\n",
              "            document.querySelector('#' + key + ' button');\n",
              "          quickchartButtonEl.disabled = true;  // To prevent multiple clicks.\n",
              "          quickchartButtonEl.classList.add('colab-df-spinner');\n",
              "          try {\n",
              "            const charts = await google.colab.kernel.invokeFunction(\n",
              "                'suggestCharts', [key], {});\n",
              "          } catch (error) {\n",
              "            console.error('Error during call to suggestCharts:', error);\n",
              "          }\n",
              "          quickchartButtonEl.classList.remove('colab-df-spinner');\n",
              "          quickchartButtonEl.classList.add('colab-df-quickchart-complete');\n",
              "        }\n",
              "        (() => {\n",
              "          let quickchartButtonEl =\n",
              "            document.querySelector('#df-a51ba61b-dc89-43d1-9450-519533b5ac45 button');\n",
              "          quickchartButtonEl.style.display =\n",
              "            google.colab.kernel.accessAllowed ? 'block' : 'none';\n",
              "        })();\n",
              "      </script>\n",
              "    </div>\n",
              "\n",
              "    </div>\n",
              "  </div>\n"
            ],
            "application/vnd.google.colaboratory.intrinsic+json": {
              "type": "dataframe",
              "variable_name": "df"
            }
          },
          "metadata": {},
          "execution_count": 4
        }
      ]
    },
    {
      "cell_type": "markdown",
      "source": [
        "**Data Cleaning**"
      ],
      "metadata": {
        "id": "lvrdoWKVDdPB"
      }
    },
    {
      "cell_type": "code",
      "source": [
        "print(df.isnull().sum())\n"
      ],
      "metadata": {
        "colab": {
          "base_uri": "https://localhost:8080/"
        },
        "id": "x4SoV3k-DO5m",
        "outputId": "81e15cdc-ce7f-48cb-a6e7-a8052d4e7619"
      },
      "execution_count": 5,
      "outputs": [
        {
          "output_type": "stream",
          "name": "stdout",
          "text": [
            "step              0\n",
            "type              1\n",
            "amount            1\n",
            "nameOrig          1\n",
            "oldbalanceOrg     1\n",
            "newbalanceOrig    1\n",
            "nameDest          1\n",
            "oldbalanceDest    1\n",
            "newbalanceDest    1\n",
            "isFraud           1\n",
            "isFlaggedFraud    1\n",
            "dtype: int64\n"
          ]
        }
      ]
    },
    {
      "cell_type": "code",
      "source": [
        "df = df.dropna()\n"
      ],
      "metadata": {
        "id": "10moIHpYDi8j"
      },
      "execution_count": 6,
      "outputs": []
    },
    {
      "cell_type": "code",
      "source": [
        "print(df.isnull().sum())\n"
      ],
      "metadata": {
        "colab": {
          "base_uri": "https://localhost:8080/"
        },
        "id": "RQmyv_iZDwVH",
        "outputId": "27fc7bc8-91f9-471d-f450-c55ee4f25500"
      },
      "execution_count": 7,
      "outputs": [
        {
          "output_type": "stream",
          "name": "stdout",
          "text": [
            "step              0\n",
            "type              0\n",
            "amount            0\n",
            "nameOrig          0\n",
            "oldbalanceOrg     0\n",
            "newbalanceOrig    0\n",
            "nameDest          0\n",
            "oldbalanceDest    0\n",
            "newbalanceDest    0\n",
            "isFraud           0\n",
            "isFlaggedFraud    0\n",
            "dtype: int64\n"
          ]
        }
      ]
    },
    {
      "cell_type": "code",
      "source": [
        "df.info()\n",
        "#to verify the number of non-null values"
      ],
      "metadata": {
        "colab": {
          "base_uri": "https://localhost:8080/"
        },
        "id": "Q0Xo9fvCwNCd",
        "outputId": "7c8d8c28-67f3-4f68-8608-2f1995793222"
      },
      "execution_count": 8,
      "outputs": [
        {
          "output_type": "stream",
          "name": "stdout",
          "text": [
            "<class 'pandas.core.frame.DataFrame'>\n",
            "Index: 1023227 entries, 0 to 1023226\n",
            "Data columns (total 11 columns):\n",
            " #   Column          Non-Null Count    Dtype  \n",
            "---  ------          --------------    -----  \n",
            " 0   step            1023227 non-null  int64  \n",
            " 1   type            1023227 non-null  object \n",
            " 2   amount          1023227 non-null  float64\n",
            " 3   nameOrig        1023227 non-null  object \n",
            " 4   oldbalanceOrg   1023227 non-null  float64\n",
            " 5   newbalanceOrig  1023227 non-null  float64\n",
            " 6   nameDest        1023227 non-null  object \n",
            " 7   oldbalanceDest  1023227 non-null  float64\n",
            " 8   newbalanceDest  1023227 non-null  float64\n",
            " 9   isFraud         1023227 non-null  float64\n",
            " 10  isFlaggedFraud  1023227 non-null  float64\n",
            "dtypes: float64(7), int64(1), object(3)\n",
            "memory usage: 93.7+ MB\n"
          ]
        }
      ]
    },
    {
      "cell_type": "markdown",
      "source": [
        "All missing values across the dataset have been successfully cleaned by dropping rows with null entries.\n"
      ],
      "metadata": {
        "id": "Ea2SWQX7xBJh"
      }
    },
    {
      "cell_type": "markdown",
      "source": [
        "VERIFYING DATA TYPES OF EACH COLUMN"
      ],
      "metadata": {
        "id": "bL4ox8cJEP59"
      }
    },
    {
      "cell_type": "code",
      "source": [
        "print(df.dtypes)\n"
      ],
      "metadata": {
        "colab": {
          "base_uri": "https://localhost:8080/"
        },
        "id": "fysWql_hEHwc",
        "outputId": "7f4af8a3-1396-4551-fac6-cd3d8b84c9a6"
      },
      "execution_count": 9,
      "outputs": [
        {
          "output_type": "stream",
          "name": "stdout",
          "text": [
            "step                int64\n",
            "type               object\n",
            "amount            float64\n",
            "nameOrig           object\n",
            "oldbalanceOrg     float64\n",
            "newbalanceOrig    float64\n",
            "nameDest           object\n",
            "oldbalanceDest    float64\n",
            "newbalanceDest    float64\n",
            "isFraud           float64\n",
            "isFlaggedFraud    float64\n",
            "dtype: object\n"
          ]
        }
      ]
    },
    {
      "cell_type": "code",
      "source": [
        "# Convert labels to integers\n",
        "df['isFraud'] = df['isFraud'].astype(int)\n",
        "df['isFlaggedFraud'] = df['isFlaggedFraud'].astype(int)\n"
      ],
      "metadata": {
        "id": "nVrTNy_EEiTe"
      },
      "execution_count": 10,
      "outputs": []
    },
    {
      "cell_type": "markdown",
      "source": [
        "Since isFraud and isFlaggedFraud contain only binary values (0 and 1), converting them to integers ensures they're correctly interpreted as categorical class labels rather than strings, floats, or objects. This is essential for model training and evaluation."
      ],
      "metadata": {
        "id": "HGhpeMOsx-TE"
      }
    },
    {
      "cell_type": "markdown",
      "source": [
        "OUTLIERS"
      ],
      "metadata": {
        "id": "QBIy-kUUExWH"
      }
    },
    {
      "cell_type": "code",
      "source": [
        "df['amount'].describe()\n"
      ],
      "metadata": {
        "colab": {
          "base_uri": "https://localhost:8080/",
          "height": 335
        },
        "id": "o4KtoEphEzwh",
        "outputId": "a468cb06-3223-4da7-cfe2-14ffe2849944"
      },
      "execution_count": 11,
      "outputs": [
        {
          "output_type": "execute_result",
          "data": {
            "text/plain": [
              "count    1.023227e+06\n",
              "mean     1.590755e+05\n",
              "std      2.588452e+05\n",
              "min      1.000000e-01\n",
              "25%      1.245100e+04\n",
              "50%      7.796447e+04\n",
              "75%      2.150968e+05\n",
              "max      1.000000e+07\n",
              "Name: amount, dtype: float64"
            ],
            "text/html": [
              "<div>\n",
              "<style scoped>\n",
              "    .dataframe tbody tr th:only-of-type {\n",
              "        vertical-align: middle;\n",
              "    }\n",
              "\n",
              "    .dataframe tbody tr th {\n",
              "        vertical-align: top;\n",
              "    }\n",
              "\n",
              "    .dataframe thead th {\n",
              "        text-align: right;\n",
              "    }\n",
              "</style>\n",
              "<table border=\"1\" class=\"dataframe\">\n",
              "  <thead>\n",
              "    <tr style=\"text-align: right;\">\n",
              "      <th></th>\n",
              "      <th>amount</th>\n",
              "    </tr>\n",
              "  </thead>\n",
              "  <tbody>\n",
              "    <tr>\n",
              "      <th>count</th>\n",
              "      <td>1.023227e+06</td>\n",
              "    </tr>\n",
              "    <tr>\n",
              "      <th>mean</th>\n",
              "      <td>1.590755e+05</td>\n",
              "    </tr>\n",
              "    <tr>\n",
              "      <th>std</th>\n",
              "      <td>2.588452e+05</td>\n",
              "    </tr>\n",
              "    <tr>\n",
              "      <th>min</th>\n",
              "      <td>1.000000e-01</td>\n",
              "    </tr>\n",
              "    <tr>\n",
              "      <th>25%</th>\n",
              "      <td>1.245100e+04</td>\n",
              "    </tr>\n",
              "    <tr>\n",
              "      <th>50%</th>\n",
              "      <td>7.796447e+04</td>\n",
              "    </tr>\n",
              "    <tr>\n",
              "      <th>75%</th>\n",
              "      <td>2.150968e+05</td>\n",
              "    </tr>\n",
              "    <tr>\n",
              "      <th>max</th>\n",
              "      <td>1.000000e+07</td>\n",
              "    </tr>\n",
              "  </tbody>\n",
              "</table>\n",
              "</div><br><label><b>dtype:</b> float64</label>"
            ]
          },
          "metadata": {},
          "execution_count": 11
        }
      ]
    },
    {
      "cell_type": "code",
      "source": [
        "import seaborn as sns\n",
        "import matplotlib.pyplot as plt\n",
        "\n",
        "sns.boxplot(x='isFraud', y='amount', data=df)\n",
        "plt.yscale('log')  # Helps with extreme range visibility\n",
        "plt.title(\"Transaction Amount by Fraud Status\")\n",
        "plt.show()\n"
      ],
      "metadata": {
        "colab": {
          "base_uri": "https://localhost:8080/",
          "height": 472
        },
        "id": "1WCDVdmzFLUW",
        "outputId": "b516cae9-d661-438a-ed7c-932db107c95d"
      },
      "execution_count": 12,
      "outputs": [
        {
          "output_type": "display_data",
          "data": {
            "text/plain": [
              "<Figure size 640x480 with 1 Axes>"
            ],
            "image/png": "[encoded data removed]"
          },
          "metadata": {}
        }
      ]
    },
    {
      "cell_type": "markdown",
      "source": [
        "The amount variable contains significant outliers; however, these should not be removed, as high-value transactions are often strong indicators of fraud and play a critical role in detecting fraudulent activity"
      ],
      "metadata": {
        "id": "MeK_o62lFXdC"
      }
    },
    {
      "cell_type": "markdown",
      "source": [
        "Multicollinearity"
      ],
      "metadata": {
        "id": "Yhv7p0sHFtRg"
      }
    },
    {
      "cell_type": "code",
      "source": [
        "import seaborn as sns\n",
        "import matplotlib.pyplot as plt\n",
        "\n",
        "# Correlation matrix for all numeric columns, including low variance ones\n",
        "corr_matrix = df.corr(numeric_only=True)\n",
        "\n",
        "# Fill NaNs with 0 (if any appear due to constant columns)\n",
        "corr_matrix = corr_matrix.fillna(0)\n",
        "\n",
        "# Plot heatmap\n",
        "plt.figure(figsize=(10, 6))\n",
        "sns.heatmap(corr_matrix, annot=True, cmap='coolwarm')\n",
        "plt.title(\"Correlation Matrix with All Numeric Features\")\n",
        "plt.show()\n"
      ],
      "metadata": {
        "colab": {
          "base_uri": "https://localhost:8080/",
          "height": 646
        },
        "id": "yKYp3M_AFemO",
        "outputId": "005a76c0-14c5-42fd-fe86-2a9a2c7eb693"
      },
      "execution_count": 13,
      "outputs": [
        {
          "output_type": "display_data",
          "data": {
            "text/plain": [
              "<Figure size 1000x600 with 2 Axes>"
            ],
            "image/png": "[encoded data removed]"
          },
          "metadata": {}
        }
      ]
    },
    {
      "cell_type": "markdown",
      "source": [
        "The correlation matrix reveals high multicollinearity between oldbalanceDest and newbalanceDest (correlation ≈ 0.92). These features carry redundant information, which may affect model performance and interpretability. One of them can be dropped or transformed during feature selection to reduce multicollinearity."
      ],
      "metadata": {
        "id": "jMWNz2QeH7c8"
      }
    },
    {
      "cell_type": "code",
      "source": [
        "import pandas as pd\n",
        "from statsmodels.stats.outliers_influence import variance_inflation_factor\n",
        "from statsmodels.tools.tools import add_constant\n",
        "# Assuming df is your original DataFrame\n",
        "numeric_df = df.select_dtypes(include=['float64', 'int64'])  # or df[numeric_cols]\n",
        "features = numeric_df.drop(columns=['isFraud', 'isFlaggedFraud'], errors='ignore')  # remove targets\n",
        "# Add constant term for intercept\n",
        "X = add_constant(features)\n",
        "\n",
        "# Create a DataFrame to hold VIF results\n",
        "vif_data = pd.DataFrame()\n",
        "vif_data[\"Feature\"] = X.columns\n",
        "vif_data[\"VIF\"] = [variance_inflation_factor(X.values, i) for i in range(X.shape[1])]\n",
        "\n",
        "print(vif_data)\n"
      ],
      "metadata": {
        "colab": {
          "base_uri": "https://localhost:8080/"
        },
        "id": "NLq4XXavHStg",
        "outputId": "44fab171-4a8d-4f6e-b289-fafa47191f7b"
      },
      "execution_count": 14,
      "outputs": [
        {
          "output_type": "stream",
          "name": "stdout",
          "text": [
            "          Feature         VIF\n",
            "0           const    5.597564\n",
            "1            step    1.009426\n",
            "2          amount    1.411386\n",
            "3   oldbalanceOrg  706.300302\n",
            "4  newbalanceOrig  708.638812\n",
            "5  oldbalanceDest   32.453807\n",
            "6  newbalanceDest   34.023623\n"
          ]
        }
      ]
    },
    {
      "cell_type": "markdown",
      "source": [
        "Interpretation:\n",
        "\n",
        "VIF = 1: No multicollinearity (good)\n",
        "\n",
        "VIF 1–5: Acceptable\n",
        "\n",
        "VIF > 10: Serious multicollinearity (bad)"
      ],
      "metadata": {
        "id": "dg2edhixHYZ2"
      }
    },
    {
      "cell_type": "markdown",
      "source": [
        "Although newbalanceOrig and newbalanceDest showed high multicollinearity (VIF > 700), they were retained because the XGBoost model is robust to multicollinearity.\n"
      ],
      "metadata": {
        "id": "laqw04_71L2c"
      }
    },
    {
      "cell_type": "markdown",
      "source": [
        "**Exploratory Data Analysis**"
      ],
      "metadata": {
        "id": "mDgm_YCGIzHm"
      }
    },
    {
      "cell_type": "markdown",
      "source": [
        "Target Variable Distribution"
      ],
      "metadata": {
        "id": "twmzXvXpI17R"
      }
    },
    {
      "cell_type": "code",
      "source": [
        "import matplotlib.pyplot as plt\n",
        "\n",
        "fraud_counts = df['isFraud'].value_counts()\n",
        "fraud_ratios = df['isFraud'].value_counts(normalize=True)\n",
        "\n",
        "# Plot bar chart\n",
        "ax = fraud_ratios.plot(kind='bar', title='Fraud vs Non-Fraud', color=['skyblue', 'salmon'])\n",
        "\n",
        "# Annotate actual numbers\n",
        "for i, count in enumerate(fraud_counts):\n",
        "    ax.text(i, fraud_ratios[i] + 0.01, f'Count: {count}', ha='center', fontsize=10)\n",
        "\n",
        "plt.ylabel('Proportion')\n",
        "plt.xticks(ticks=[0,1], labels=['Non-Fraud (0)', 'Fraud (1)'], rotation=0)\n",
        "plt.ylim(0, fraud_ratios.max() + 0.05)\n",
        "plt.tight_layout()\n",
        "plt.show()\n"
      ],
      "metadata": {
        "colab": {
          "base_uri": "https://localhost:8080/",
          "height": 487
        },
        "id": "9cANQ9VPIlWD",
        "outputId": "8b89f73c-8dbe-4407-a845-89a8d5a1ef29"
      },
      "execution_count": 15,
      "outputs": [
        {
          "output_type": "display_data",
          "data": {
            "text/plain": [
              "<Figure size 640x480 with 1 Axes>"
            ],
            "image/png": "[encoded data removed]"
          },
          "metadata": {}
        }
      ]
    },
    {
      "cell_type": "markdown",
      "source": [
        "Transaction Type vs Fraud"
      ],
      "metadata": {
        "id": "8Cr7RPv8JTcm"
      }
    },
    {
      "cell_type": "code",
      "source": [
        "import seaborn as sns\n",
        "import matplotlib.pyplot as plt\n",
        "\n",
        "plt.figure(figsize=(10,6))\n",
        "ax = sns.countplot(x='type', hue='isFraud', data=df, palette='Set2')\n",
        "plt.title('Transaction Type vs Fraud')\n",
        "plt.xticks(rotation=45)\n",
        "\n",
        "# Add count labels on top of bars\n",
        "for p in ax.patches:\n",
        "    height = p.get_height()\n",
        "    ax.annotate(f'{height:,}',                 # Format with comma\n",
        "                (p.get_x() + p.get_width() / 2., height),\n",
        "                ha='center', va='bottom', fontsize=9)\n",
        "\n",
        "plt.tight_layout()\n",
        "plt.show()\n"
      ],
      "metadata": {
        "colab": {
          "base_uri": "https://localhost:8080/",
          "height": 607
        },
        "id": "IKbOgtwwJLhO",
        "outputId": "45ea36ff-2452-4f39-e75f-998c49935b45"
      },
      "execution_count": 16,
      "outputs": [
        {
          "output_type": "display_data",
          "data": {
            "text/plain": [
              "<Figure size 1000x600 with 1 Axes>"
            ],
            "image/png": "[encoded data removed]"
          },
          "metadata": {}
        }
      ]
    },
    {
      "cell_type": "markdown",
      "source": [
        "**ML** **MODEL**"
      ],
      "metadata": {
        "id": "fe5VSJhVKt1r"
      }
    },
    {
      "cell_type": "markdown",
      "source": [],
      "metadata": {
        "id": "k8hwLoXr_8sQ"
      }
    },
    {
      "cell_type": "markdown",
      "source": [
        "**Model A**: XGBoost + SMOTE with KFold Cross-Validation"
      ],
      "metadata": {
        "id": "JQffAQpeP1qP"
      }
    },
    {
      "cell_type": "markdown",
      "source": [
        "This model uses an XGBoost classifier to detect fraudulent transactions from a highly imbalanced financial dataset. It applies SMOTE to oversample the minority fraud class and uses Stratified K-Fold cross-validation to ensure balanced evaluation. Key metrics like accuracy, recall, precision, and ROC AUC are recorded across folds to assess model performance."
      ],
      "metadata": {
        "id": "Rdhytnv-AoQ6"
      }
    },
    {
      "cell_type": "code",
      "source": [
        "import pandas as pd\n",
        "import numpy as np\n",
        "from sklearn.model_selection import StratifiedKFold\n",
        "from sklearn.metrics import classification_report, confusion_matrix, roc_auc_score, accuracy_score, recall_score, precision_score\n",
        "from imblearn.over_sampling import SMOTE\n",
        "from xgboost import XGBClassifier\n",
        "\n",
        "# Perform one-hot encoding on the 'type' column\n",
        "df_model = pd.get_dummies(df, columns=['type'], drop_first=True)\n",
        "\n",
        "# Prepare features and target\n",
        "X = df_model[['step', 'amount', 'oldbalanceOrg', 'oldbalanceDest', 'type_CASH_OUT', 'type_DEBIT', 'type_PAYMENT', 'type_TRANSFER']]\n",
        "y = df_model['isFraud'].astype(int)\n",
        "\n",
        "# Initialize Stratified K-Fold\n",
        "skf = StratifiedKFold(n_splits=5, shuffle=True, random_state=42)\n",
        "\n",
        "recall_scores = []\n",
        "precision_scores = [] # Add precision scores\n",
        "\n",
        "for fold, (train_idx, test_idx) in enumerate(skf.split(X, y), 1):\n",
        "    print(f\"\\n=== Fold {fold} ===\")\n",
        "\n",
        "    X_train, X_test = X.iloc[train_idx], X.iloc[test_idx]\n",
        "    y_train, y_test = y.iloc[train_idx], y.iloc[test_idx]\n",
        "\n",
        "    # Apply SMOTE only to training data\n",
        "    smote = SMOTE(random_state=42)\n",
        "    X_train_res, y_train_res = smote.fit_resample(X_train, y_train)\n",
        "\n",
        "    # Train XGBoost (cleaned, no deprecated param)\n",
        "    model = XGBClassifier(eval_metric='logloss', random_state=42)\n",
        "    model.fit(X_train_res, y_train_res)\n",
        "\n",
        "    # Predictions and evaluation\n",
        "    y_pred = model.predict(X_test)\n",
        "\n",
        "    cm = confusion_matrix(y_test, y_pred)\n",
        "    print(\"Confusion Matrix:\\n\", cm)\n",
        "\n",
        "    print(\"\\nClassification Report:\\n\", classification_report(y_test, y_pred))\n",
        "\n",
        "    roc_auc = roc_auc_score(y_test, model.predict_proba(X_test)[:, 1])\n",
        "    accuracy = accuracy_score(y_test, y_pred)\n",
        "    recall = recall_score(y_test, y_pred)\n",
        "    precision = precision_score(y_test, y_pred) # Calculate precision score\n",
        "\n",
        "    print(f\"ROC AUC Score: {roc_auc:.4f}\")\n",
        "    print(f\"Accuracy Score: {accuracy:.4f}\")\n",
        "    print(f\"Recall Score: {recall:.4f}\")\n",
        "    print(f\"Precision Score: {precision:.4f}\") # Print precision score\n",
        "    # print(f\"Avg Precision: {avg_precision:.4f}\") # Remove this line as avg_precision is not defined here\n",
        "    recall_scores.append(recall)\n",
        "    precision_scores.append(precision) # Append precision score\n",
        "\n"
      ],
      "metadata": {
        "colab": {
          "base_uri": "https://localhost:8080/"
        },
        "id": "YRCWcMJ_OxWy",
        "outputId": "eda0f601-ca3c-495a-9cd6-878fc387a569"
      },
      "execution_count": 17,
      "outputs": [
        {
          "output_type": "stream",
          "name": "stdout",
          "text": [
            "\n",
            "=== Fold 1 ===\n",
            "Confusion Matrix:\n",
            " [[203499   1033]\n",
            " [    19     95]]\n",
            "\n",
            "Classification Report:\n",
            "               precision    recall  f1-score   support\n",
            "\n",
            "           0       1.00      0.99      1.00    204532\n",
            "           1       0.08      0.83      0.15       114\n",
            "\n",
            "    accuracy                           0.99    204646\n",
            "   macro avg       0.54      0.91      0.58    204646\n",
            "weighted avg       1.00      0.99      1.00    204646\n",
            "\n",
            "ROC AUC Score: 0.9782\n",
            "Accuracy Score: 0.9949\n",
            "Recall Score: 0.8333\n",
            "Precision Score: 0.0842\n",
            "\n",
            "=== Fold 2 ===\n",
            "Confusion Matrix:\n",
            " [[203518   1014]\n",
            " [    18     96]]\n",
            "\n",
            "Classification Report:\n",
            "               precision    recall  f1-score   support\n",
            "\n",
            "           0       1.00      1.00      1.00    204532\n",
            "           1       0.09      0.84      0.16       114\n",
            "\n",
            "    accuracy                           0.99    204646\n",
            "   macro avg       0.54      0.92      0.58    204646\n",
            "weighted avg       1.00      0.99      1.00    204646\n",
            "\n",
            "ROC AUC Score: 0.9918\n",
            "Accuracy Score: 0.9950\n",
            "Recall Score: 0.8421\n",
            "Precision Score: 0.0865\n",
            "\n",
            "=== Fold 3 ===\n",
            "Confusion Matrix:\n",
            " [[203499   1032]\n",
            " [    14    100]]\n",
            "\n",
            "Classification Report:\n",
            "               precision    recall  f1-score   support\n",
            "\n",
            "           0       1.00      0.99      1.00    204531\n",
            "           1       0.09      0.88      0.16       114\n",
            "\n",
            "    accuracy                           0.99    204645\n",
            "   macro avg       0.54      0.94      0.58    204645\n",
            "weighted avg       1.00      0.99      1.00    204645\n",
            "\n",
            "ROC AUC Score: 0.9961\n",
            "Accuracy Score: 0.9949\n",
            "Recall Score: 0.8772\n",
            "Precision Score: 0.0883\n",
            "\n",
            "=== Fold 4 ===\n",
            "Confusion Matrix:\n",
            " [[203529   1002]\n",
            " [    19     95]]\n",
            "\n",
            "Classification Report:\n",
            "               precision    recall  f1-score   support\n",
            "\n",
            "           0       1.00      1.00      1.00    204531\n",
            "           1       0.09      0.83      0.16       114\n",
            "\n",
            "    accuracy                           1.00    204645\n",
            "   macro avg       0.54      0.91      0.58    204645\n",
            "weighted avg       1.00      1.00      1.00    204645\n",
            "\n",
            "ROC AUC Score: 0.9863\n",
            "Accuracy Score: 0.9950\n",
            "Recall Score: 0.8333\n",
            "Precision Score: 0.0866\n",
            "\n",
            "=== Fold 5 ===\n",
            "Confusion Matrix:\n",
            " [[203372   1159]\n",
            " [    15     99]]\n",
            "\n",
            "Classification Report:\n",
            "               precision    recall  f1-score   support\n",
            "\n",
            "           0       1.00      0.99      1.00    204531\n",
            "           1       0.08      0.87      0.14       114\n",
            "\n",
            "    accuracy                           0.99    204645\n",
            "   macro avg       0.54      0.93      0.57    204645\n",
            "weighted avg       1.00      0.99      1.00    204645\n",
            "\n",
            "ROC AUC Score: 0.9853\n",
            "Accuracy Score: 0.9943\n",
            "Recall Score: 0.8684\n",
            "Precision Score: 0.0787\n"
          ]
        }
      ]
    },
    {
      "cell_type": "markdown",
      "source": [
        "Summary of Model A"
      ],
      "metadata": {
        "id": "voM5aTCY85uF"
      }
    },
    {
      "cell_type": "code",
      "source": [
        "#Summary\n",
        "print(\"\\nRecall per fold:\", np.round(recall_scores, 4))\n",
        "print(\"Average recall:\", np.round(np.mean(recall_scores), 4))\n",
        "print(\"\\nPrecision per fold:\", np.round(precision_scores, 4))\n",
        "print(\"Average precision:\", np.round(np.mean(precision_scores), 4))\n",
        "\n"
      ],
      "metadata": {
        "colab": {
          "base_uri": "https://localhost:8080/"
        },
        "id": "JH5Oq3Ry3wWk",
        "outputId": "3537003a-bca9-4c5e-c07b-3f89835dfab2"
      },
      "execution_count": 18,
      "outputs": [
        {
          "output_type": "stream",
          "name": "stdout",
          "text": [
            "\n",
            "Recall per fold: [0.8333 0.8421 0.8772 0.8333 0.8684]\n",
            "Average recall: 0.8509\n",
            "\n",
            "Precision per fold: [0.0842 0.0865 0.0883 0.0866 0.0787]\n",
            "Average precision: 0.0849\n"
          ]
        }
      ]
    },
    {
      "cell_type": "code",
      "source": [
        "print(\"\\nAccuracy per fold:\", np.round(accuracy, 4))\n",
        "print(\"Average accuracy:\", np.round(np.mean(accuracy), 4))\n"
      ],
      "metadata": {
        "colab": {
          "base_uri": "https://localhost:8080/"
        },
        "id": "cjeBQytN7zMp",
        "outputId": "3f366ac5-39a3-4934-c2f9-f063de381e72"
      },
      "execution_count": 19,
      "outputs": [
        {
          "output_type": "stream",
          "name": "stdout",
          "text": [
            "\n",
            "Accuracy per fold: 0.9943\n",
            "Average accuracy: 0.9943\n"
          ]
        }
      ]
    },
    {
      "cell_type": "markdown",
      "source": [
        "Model A demonstrates strong performance with a high average accuracy of 99.43%, showcasing the model's ability to correctly classify most transactions. It maintains an impressive average recall of 85.09%, effectively identifying a large proportion of actual fraud cases. The precision stands at 8.49%, reflecting the challenge of minimizing false positives in highly imbalanced datasets. Overall, the model handles fraud detection well, especially in terms of sensitivity."
      ],
      "metadata": {
        "id": "VDyynpo2_4-q"
      }
    },
    {
      "cell_type": "code",
      "source": [
        "# After final model training, plot feature importance with values\n",
        "import matplotlib.pyplot as plt\n",
        "import numpy as np\n",
        "\n",
        "# Get importances and feature names\n",
        "importances = model.feature_importances_\n",
        "features = X.columns\n",
        "\n",
        "# Sort features by importance\n",
        "sorted_idx = np.argsort(importances)\n",
        "sorted_features = features[sorted_idx]\n",
        "sorted_importances = importances[sorted_idx]\n",
        "\n",
        "# Plot\n",
        "plt.figure(figsize=(10, 6))\n",
        "bars = plt.barh(sorted_features, sorted_importances, color='skyblue')\n",
        "plt.xlabel(\"Importance Score\")\n",
        "plt.title(\"XGBoost Feature Importance\")\n",
        "\n",
        "# Add numeric labels to each bar\n",
        "for bar in bars:\n",
        "    width = bar.get_width()\n",
        "    plt.text(width + 0.002, bar.get_y() + bar.get_height()/2,\n",
        "             f\"{width:.4f}\", va='center')\n",
        "\n",
        "plt.tight_layout()\n",
        "plt.show()\n"
      ],
      "metadata": {
        "colab": {
          "base_uri": "https://localhost:8080/",
          "height": 607
        },
        "id": "v98epg1DQTA_",
        "outputId": "b9e0c4e4-6f62-4b5e-f066-b0b2aac00776"
      },
      "execution_count": 20,
      "outputs": [
        {
          "output_type": "display_data",
          "data": {
            "text/plain": [
              "<Figure size 1000x600 with 1 Axes>"
            ],
            "image/png": "[encoded data removed]"
          },
          "metadata": {}
        }
      ]
    },
    {
      "cell_type": "markdown",
      "source": [
        "**Model B**: XGBoost with SMOTE, Stratified K-Fold, and Threshold Optimization\n"
      ],
      "metadata": {
        "id": "-uGhg4rl2Wdm"
      }
    },
    {
      "cell_type": "markdown",
      "source": [
        "This model uses A/B testing by evaluating the classifier's performance across multiple decision thresholds (0.5, 0.4, 0.3, 0.2) to identify which setting yields the best trade-off between recall and precision. Each threshold acts as a variant (like A or B) in a controlled comparison. By analyzing these variations systematically, the model helps select the most effective threshold for fraud detection without altering the underlying model architecture."
      ],
      "metadata": {
        "id": "dfl_dBDxB_Qz"
      }
    },
    {
      "cell_type": "code",
      "source": [
        "import pandas as pd\n",
        "import numpy as np\n",
        "import matplotlib.pyplot as plt\n",
        "import seaborn as sns\n",
        "from sklearn.model_selection import StratifiedKFold\n",
        "from sklearn.metrics import (\n",
        "    classification_report, confusion_matrix, roc_auc_score,\n",
        "    accuracy_score, recall_score, precision_score\n",
        ")\n",
        "from imblearn.over_sampling import SMOTE\n",
        "from xgboost import XGBClassifier\n",
        "\n",
        "# Perform one-hot encoding on the 'type' column within this cell\n",
        "df_model = pd.get_dummies(df, columns=['type'], drop_first=True)\n",
        "\n",
        "#  Prepare features and target\n",
        "X = df_model[['step', 'amount', 'oldbalanceOrg', 'oldbalanceDest',\n",
        "        'type_CASH_OUT', 'type_DEBIT', 'type_PAYMENT', 'type_TRANSFER']]\n",
        "y = df_model['isFraud'].astype(int)\n",
        "\n",
        "#  Initialize Stratified K-Fold\n",
        "skf = StratifiedKFold(n_splits=5, shuffle=True, random_state=42)\n",
        "\n",
        "#  Store metrics for each threshold\n",
        "threshold_results = {0.5: [], 0.4: [], 0.3: [], 0.2: []}\n",
        "\n",
        "#  Store feature importances from each fold\n",
        "all_feature_importances = []\n",
        "\n",
        "#  Start cross-validation\n",
        "for fold, (train_idx, test_idx) in enumerate(skf.split(X, y), 1):\n",
        "    print(f\"\\n=== Fold {fold} ===\")\n",
        "\n",
        "    X_train, X_test = X.iloc[train_idx], X.iloc[test_idx]\n",
        "    y_train, y_test = y.iloc[train_idx], y.iloc[test_idx]\n",
        "\n",
        "    #  Apply SMOTE to training data only\n",
        "    smote = SMOTE(random_state=42)\n",
        "    X_train_res, y_train_res = smote.fit_resample(X_train, y_train)\n",
        "\n",
        "    #  Train XGBoost\n",
        "    model = XGBClassifier(eval_metric='logloss', random_state=42)\n",
        "    model.fit(X_train_res, y_train_res)\n",
        "\n",
        "    #  Store feature importances\n",
        "    all_feature_importances.append(model.feature_importances_)\n",
        "\n",
        "    #  Predict probabilities\n",
        "    y_proba = model.predict_proba(X_test)[:, 1]\n",
        "\n",
        "    for threshold in threshold_results.keys():\n",
        "        print(f\"\\nThreshold: {threshold}\")\n",
        "\n",
        "        y_pred = (y_proba > threshold).astype(int)\n",
        "\n",
        "        cm = confusion_matrix(y_test, y_pred)\n",
        "        roc_auc = roc_auc_score(y_test, y_proba)\n",
        "        accuracy = accuracy_score(y_test, y_pred)\n",
        "        recall = recall_score(y_test, y_pred)\n",
        "        precision = precision_score(y_test, y_pred)\n",
        "\n",
        "        print(\"Confusion Matrix:\\n\", cm)\n",
        "        print(\"Classification Report:\\n\", classification_report(y_test, y_pred))\n",
        "        print(f\"ROC AUC: {roc_auc:.4f} | Accuracy: {accuracy:.4f} | Recall: {recall:.4f} | Precision: {precision:.4f}\")\n",
        "\n",
        "        threshold_results[threshold].append({\n",
        "            \"roc_auc\": roc_auc,\n",
        "            \"accuracy\": accuracy,\n",
        "            \"recall\": recall,\n",
        "            \"precision\": precision\n",
        "        })\n",
        "\n",
        "#  Plot Average Feature Importance\n",
        "avg_importance = np.mean(all_feature_importances, axis=0)\n",
        "features = X.columns\n",
        "importance_df = pd.DataFrame({\n",
        "    \"Feature\": features,\n",
        "    \"Importance\": avg_importance\n",
        "}).sort_values(by=\"Importance\", ascending=True)\n",
        "\n",
        "plt.figure(figsize=(10, 6))\n",
        "sns.barplot(x=\"Importance\", y=\"Feature\", data=importance_df, palette=\"viridis\")\n",
        "plt.title(\"Feature Importance - Model B (XGBoost)\", fontsize=14)\n",
        "plt.xlabel(\"Importance Score\")\n",
        "plt.ylabel(\"Feature\")\n",
        "plt.grid(axis='x', linestyle='--', alpha=0.7)\n",
        "plt.tight_layout()\n",
        "plt.show()\n"
      ],
      "metadata": {
        "colab": {
          "base_uri": "https://localhost:8080/",
          "height": 1000
        },
        "id": "uTf4DPeHu0L2",
        "outputId": "506eb155-a284-4147-d36b-be5b2e618dc2"
      },
      "execution_count": 25,
      "outputs": [
        {
          "output_type": "stream",
          "name": "stdout",
          "text": [
            "\n",
            "=== Fold 1 ===\n",
            "\n",
            "Threshold: 0.5\n",
            "Confusion Matrix:\n",
            " [[203499   1033]\n",
            " [    19     95]]\n",
            "Classification Report:\n",
            "               precision    recall  f1-score   support\n",
            "\n",
            "           0       1.00      0.99      1.00    204532\n",
            "           1       0.08      0.83      0.15       114\n",
            "\n",
            "    accuracy                           0.99    204646\n",
            "   macro avg       0.54      0.91      0.58    204646\n",
            "weighted avg       1.00      0.99      1.00    204646\n",
            "\n",
            "ROC AUC: 0.9782 | Accuracy: 0.9949 | Recall: 0.8333 | Precision: 0.0842\n",
            "\n",
            "Threshold: 0.4\n",
            "Confusion Matrix:\n",
            " [[203201   1331]\n",
            " [    16     98]]\n",
            "Classification Report:\n",
            "               precision    recall  f1-score   support\n",
            "\n",
            "           0       1.00      0.99      1.00    204532\n",
            "           1       0.07      0.86      0.13       114\n",
            "\n",
            "    accuracy                           0.99    204646\n",
            "   macro avg       0.53      0.93      0.56    204646\n",
            "weighted avg       1.00      0.99      1.00    204646\n",
            "\n",
            "ROC AUC: 0.9782 | Accuracy: 0.9934 | Recall: 0.8596 | Precision: 0.0686\n",
            "\n",
            "Threshold: 0.3\n",
            "Confusion Matrix:\n",
            " [[202827   1705]\n",
            " [    15     99]]\n",
            "Classification Report:\n",
            "               precision    recall  f1-score   support\n",
            "\n",
            "           0       1.00      0.99      1.00    204532\n",
            "           1       0.05      0.87      0.10       114\n",
            "\n",
            "    accuracy                           0.99    204646\n",
            "   macro avg       0.53      0.93      0.55    204646\n",
            "weighted avg       1.00      0.99      1.00    204646\n",
            "\n",
            "ROC AUC: 0.9782 | Accuracy: 0.9916 | Recall: 0.8684 | Precision: 0.0549\n",
            "\n",
            "Threshold: 0.2\n",
            "Confusion Matrix:\n",
            " [[202258   2274]\n",
            " [    13    101]]\n",
            "Classification Report:\n",
            "               precision    recall  f1-score   support\n",
            "\n",
            "           0       1.00      0.99      0.99    204532\n",
            "           1       0.04      0.89      0.08       114\n",
            "\n",
            "    accuracy                           0.99    204646\n",
            "   macro avg       0.52      0.94      0.54    204646\n",
            "weighted avg       1.00      0.99      0.99    204646\n",
            "\n",
            "ROC AUC: 0.9782 | Accuracy: 0.9888 | Recall: 0.8860 | Precision: 0.0425\n",
            "\n",
            "=== Fold 2 ===\n",
            "\n",
            "Threshold: 0.5\n",
            "Confusion Matrix:\n",
            " [[203518   1014]\n",
            " [    18     96]]\n",
            "Classification Report:\n",
            "               precision    recall  f1-score   support\n",
            "\n",
            "           0       1.00      1.00      1.00    204532\n",
            "           1       0.09      0.84      0.16       114\n",
            "\n",
            "    accuracy                           0.99    204646\n",
            "   macro avg       0.54      0.92      0.58    204646\n",
            "weighted avg       1.00      0.99      1.00    204646\n",
            "\n",
            "ROC AUC: 0.9918 | Accuracy: 0.9950 | Recall: 0.8421 | Precision: 0.0865\n",
            "\n",
            "Threshold: 0.4\n",
            "Confusion Matrix:\n",
            " [[203251   1281]\n",
            " [    17     97]]\n",
            "Classification Report:\n",
            "               precision    recall  f1-score   support\n",
            "\n",
            "           0       1.00      0.99      1.00    204532\n",
            "           1       0.07      0.85      0.13       114\n",
            "\n",
            "    accuracy                           0.99    204646\n",
            "   macro avg       0.54      0.92      0.56    204646\n",
            "weighted avg       1.00      0.99      1.00    204646\n",
            "\n",
            "ROC AUC: 0.9918 | Accuracy: 0.9937 | Recall: 0.8509 | Precision: 0.0704\n",
            "\n",
            "Threshold: 0.3\n",
            "Confusion Matrix:\n",
            " [[202964   1568]\n",
            " [    15     99]]\n",
            "Classification Report:\n",
            "               precision    recall  f1-score   support\n",
            "\n",
            "           0       1.00      0.99      1.00    204532\n",
            "           1       0.06      0.87      0.11       114\n",
            "\n",
            "    accuracy                           0.99    204646\n",
            "   macro avg       0.53      0.93      0.55    204646\n",
            "weighted avg       1.00      0.99      1.00    204646\n",
            "\n",
            "ROC AUC: 0.9918 | Accuracy: 0.9923 | Recall: 0.8684 | Precision: 0.0594\n",
            "\n",
            "Threshold: 0.2\n",
            "Confusion Matrix:\n",
            " [[202525   2007]\n",
            " [    15     99]]\n",
            "Classification Report:\n",
            "               precision    recall  f1-score   support\n",
            "\n",
            "           0       1.00      0.99      1.00    204532\n",
            "           1       0.05      0.87      0.09       114\n",
            "\n",
            "    accuracy                           0.99    204646\n",
            "   macro avg       0.52      0.93      0.54    204646\n",
            "weighted avg       1.00      0.99      0.99    204646\n",
            "\n",
            "ROC AUC: 0.9918 | Accuracy: 0.9901 | Recall: 0.8684 | Precision: 0.0470\n",
            "\n",
            "=== Fold 3 ===\n",
            "\n",
            "Threshold: 0.5\n",
            "Confusion Matrix:\n",
            " [[203499   1032]\n",
            " [    14    100]]\n",
            "Classification Report:\n",
            "               precision    recall  f1-score   support\n",
            "\n",
            "           0       1.00      0.99      1.00    204531\n",
            "           1       0.09      0.88      0.16       114\n",
            "\n",
            "    accuracy                           0.99    204645\n",
            "   macro avg       0.54      0.94      0.58    204645\n",
            "weighted avg       1.00      0.99      1.00    204645\n",
            "\n",
            "ROC AUC: 0.9961 | Accuracy: 0.9949 | Recall: 0.8772 | Precision: 0.0883\n",
            "\n",
            "Threshold: 0.4\n",
            "Confusion Matrix:\n",
            " [[203236   1295]\n",
            " [    13    101]]\n",
            "Classification Report:\n",
            "               precision    recall  f1-score   support\n",
            "\n",
            "           0       1.00      0.99      1.00    204531\n",
            "           1       0.07      0.89      0.13       114\n",
            "\n",
            "    accuracy                           0.99    204645\n",
            "   macro avg       0.54      0.94      0.57    204645\n",
            "weighted avg       1.00      0.99      1.00    204645\n",
            "\n",
            "ROC AUC: 0.9961 | Accuracy: 0.9936 | Recall: 0.8860 | Precision: 0.0723\n",
            "\n",
            "Threshold: 0.3\n",
            "Confusion Matrix:\n",
            " [[202891   1640]\n",
            " [    11    103]]\n",
            "Classification Report:\n",
            "               precision    recall  f1-score   support\n",
            "\n",
            "           0       1.00      0.99      1.00    204531\n",
            "           1       0.06      0.90      0.11       114\n",
            "\n",
            "    accuracy                           0.99    204645\n",
            "   macro avg       0.53      0.95      0.55    204645\n",
            "weighted avg       1.00      0.99      1.00    204645\n",
            "\n",
            "ROC AUC: 0.9961 | Accuracy: 0.9919 | Recall: 0.9035 | Precision: 0.0591\n",
            "\n",
            "Threshold: 0.2\n",
            "Confusion Matrix:\n",
            " [[202373   2158]\n",
            " [    11    103]]\n",
            "Classification Report:\n",
            "               precision    recall  f1-score   support\n",
            "\n",
            "           0       1.00      0.99      0.99    204531\n",
            "           1       0.05      0.90      0.09       114\n",
            "\n",
            "    accuracy                           0.99    204645\n",
            "   macro avg       0.52      0.95      0.54    204645\n",
            "weighted avg       1.00      0.99      0.99    204645\n",
            "\n",
            "ROC AUC: 0.9961 | Accuracy: 0.9894 | Recall: 0.9035 | Precision: 0.0456\n",
            "\n",
            "=== Fold 4 ===\n",
            "\n",
            "Threshold: 0.5\n",
            "Confusion Matrix:\n",
            " [[203529   1002]\n",
            " [    19     95]]\n",
            "Classification Report:\n",
            "               precision    recall  f1-score   support\n",
            "\n",
            "           0       1.00      1.00      1.00    204531\n",
            "           1       0.09      0.83      0.16       114\n",
            "\n",
            "    accuracy                           1.00    204645\n",
            "   macro avg       0.54      0.91      0.58    204645\n",
            "weighted avg       1.00      1.00      1.00    204645\n",
            "\n",
            "ROC AUC: 0.9863 | Accuracy: 0.9950 | Recall: 0.8333 | Precision: 0.0866\n",
            "\n",
            "Threshold: 0.4\n",
            "Confusion Matrix:\n",
            " [[203306   1225]\n",
            " [    18     96]]\n",
            "Classification Report:\n",
            "               precision    recall  f1-score   support\n",
            "\n",
            "           0       1.00      0.99      1.00    204531\n",
            "           1       0.07      0.84      0.13       114\n",
            "\n",
            "    accuracy                           0.99    204645\n",
            "   macro avg       0.54      0.92      0.57    204645\n",
            "weighted avg       1.00      0.99      1.00    204645\n",
            "\n",
            "ROC AUC: 0.9863 | Accuracy: 0.9939 | Recall: 0.8421 | Precision: 0.0727\n",
            "\n",
            "Threshold: 0.3\n",
            "Confusion Matrix:\n",
            " [[202991   1540]\n",
            " [    18     96]]\n",
            "Classification Report:\n",
            "               precision    recall  f1-score   support\n",
            "\n",
            "           0       1.00      0.99      1.00    204531\n",
            "           1       0.06      0.84      0.11       114\n",
            "\n",
            "    accuracy                           0.99    204645\n",
            "   macro avg       0.53      0.92      0.55    204645\n",
            "weighted avg       1.00      0.99      1.00    204645\n",
            "\n",
            "ROC AUC: 0.9863 | Accuracy: 0.9924 | Recall: 0.8421 | Precision: 0.0587\n",
            "\n",
            "Threshold: 0.2\n",
            "Confusion Matrix:\n",
            " [[202527   2004]\n",
            " [    13    101]]\n",
            "Classification Report:\n",
            "               precision    recall  f1-score   support\n",
            "\n",
            "           0       1.00      0.99      1.00    204531\n",
            "           1       0.05      0.89      0.09       114\n",
            "\n",
            "    accuracy                           0.99    204645\n",
            "   macro avg       0.52      0.94      0.54    204645\n",
            "weighted avg       1.00      0.99      0.99    204645\n",
            "\n",
            "ROC AUC: 0.9863 | Accuracy: 0.9901 | Recall: 0.8860 | Precision: 0.0480\n",
            "\n",
            "=== Fold 5 ===\n",
            "\n",
            "Threshold: 0.5\n",
            "Confusion Matrix:\n",
            " [[203372   1159]\n",
            " [    15     99]]\n",
            "Classification Report:\n",
            "               precision    recall  f1-score   support\n",
            "\n",
            "           0       1.00      0.99      1.00    204531\n",
            "           1       0.08      0.87      0.14       114\n",
            "\n",
            "    accuracy                           0.99    204645\n",
            "   macro avg       0.54      0.93      0.57    204645\n",
            "weighted avg       1.00      0.99      1.00    204645\n",
            "\n",
            "ROC AUC: 0.9853 | Accuracy: 0.9943 | Recall: 0.8684 | Precision: 0.0787\n",
            "\n",
            "Threshold: 0.4\n",
            "Confusion Matrix:\n",
            " [[203076   1455]\n",
            " [    14    100]]\n",
            "Classification Report:\n",
            "               precision    recall  f1-score   support\n",
            "\n",
            "           0       1.00      0.99      1.00    204531\n",
            "           1       0.06      0.88      0.12       114\n",
            "\n",
            "    accuracy                           0.99    204645\n",
            "   macro avg       0.53      0.94      0.56    204645\n",
            "weighted avg       1.00      0.99      1.00    204645\n",
            "\n",
            "ROC AUC: 0.9853 | Accuracy: 0.9928 | Recall: 0.8772 | Precision: 0.0643\n",
            "\n",
            "Threshold: 0.3\n",
            "Confusion Matrix:\n",
            " [[202728   1803]\n",
            " [    13    101]]\n",
            "Classification Report:\n",
            "               precision    recall  f1-score   support\n",
            "\n",
            "           0       1.00      0.99      1.00    204531\n",
            "           1       0.05      0.89      0.10       114\n",
            "\n",
            "    accuracy                           0.99    204645\n",
            "   macro avg       0.53      0.94      0.55    204645\n",
            "weighted avg       1.00      0.99      1.00    204645\n",
            "\n",
            "ROC AUC: 0.9853 | Accuracy: 0.9911 | Recall: 0.8860 | Precision: 0.0530\n",
            "\n",
            "Threshold: 0.2\n",
            "Confusion Matrix:\n",
            " [[202161   2370]\n",
            " [    10    104]]\n",
            "Classification Report:\n",
            "               precision    recall  f1-score   support\n",
            "\n",
            "           0       1.00      0.99      0.99    204531\n",
            "           1       0.04      0.91      0.08       114\n",
            "\n",
            "    accuracy                           0.99    204645\n",
            "   macro avg       0.52      0.95      0.54    204645\n",
            "weighted avg       1.00      0.99      0.99    204645\n",
            "\n",
            "ROC AUC: 0.9853 | Accuracy: 0.9884 | Recall: 0.9123 | Precision: 0.0420\n"
          ]
        },
        {
          "output_type": "stream",
          "name": "stderr",
          "text": [
            "/tmp/ipython-input-25-2452120318.py:82: FutureWarning: \n",
            "\n",
            "Passing `palette` without assigning `hue` is deprecated and will be removed in v0.14.0. Assign the `y` variable to `hue` and set `legend=False` for the same effect.\n",
            "\n",
            "  sns.barplot(x=\"Importance\", y=\"Feature\", data=importance_df, palette=\"viridis\")\n"
          ]
        },
        {
          "output_type": "display_data",
          "data": {
            "text/plain": [
              "<Figure size 1000x600 with 1 Axes>"
            ],
            "image/png": "[encoded data removed]"
          },
          "metadata": {}
        }
      ]
    },
    {
      "cell_type": "markdown",
      "source": [
        "Summary of Model B"
      ],
      "metadata": {
        "id": "TxfOxNjI9jk8"
      }
    },
    {
      "cell_type": "code",
      "source": [
        "#  Summary: average performance per threshold\n",
        "print(\"\\n=== Test Summary ===\")\n",
        "for threshold, scores in threshold_results.items():\n",
        "    avg_accuracy = np.mean([s[\"accuracy\"] for s in scores])\n",
        "    avg_recall = np.mean([s[\"recall\"] for s in scores])\n",
        "    avg_precision = np.mean([s[\"precision\"] for s in scores])\n",
        "    avg_auc = np.mean([s[\"roc_auc\"] for s in scores])\n",
        "\n",
        "\n",
        "    print(f\"\\nThreshold {threshold}:\")\n",
        "    print(f\" Avg Accuracy: {avg_accuracy:.4f}\")\n",
        "    print(f\" Avg Recall: {avg_recall:.4f}\")\n",
        "    print(f\" Avg Precision: {avg_precision:.4f}\")\n",
        "    print(f\" Avg ROC AUC: {avg_auc:.4f}\")"
      ],
      "metadata": {
        "colab": {
          "base_uri": "https://localhost:8080/"
        },
        "id": "J29qfARs9ivz",
        "outputId": "ecd4ac68-881a-4d2d-e5a3-547e786dcc14"
      },
      "execution_count": 26,
      "outputs": [
        {
          "output_type": "stream",
          "name": "stdout",
          "text": [
            "\n",
            "=== Test Summary ===\n",
            "\n",
            "Threshold 0.5:\n",
            " Avg Accuracy: 0.9948\n",
            " Avg Recall: 0.8509\n",
            " Avg Precision: 0.0849\n",
            " Avg ROC AUC: 0.9875\n",
            "\n",
            "Threshold 0.4:\n",
            " Avg Accuracy: 0.9935\n",
            " Avg Recall: 0.8632\n",
            " Avg Precision: 0.0697\n",
            " Avg ROC AUC: 0.9875\n",
            "\n",
            "Threshold 0.3:\n",
            " Avg Accuracy: 0.9919\n",
            " Avg Recall: 0.8737\n",
            " Avg Precision: 0.0570\n",
            " Avg ROC AUC: 0.9875\n",
            "\n",
            "Threshold 0.2:\n",
            " Avg Accuracy: 0.9894\n",
            " Avg Recall: 0.8912\n",
            " Avg Precision: 0.0450\n",
            " Avg ROC AUC: 0.9875\n"
          ]
        }
      ]
    },
    {
      "cell_type": "markdown",
      "source": [
        "As the threshold decreases from 0.5 to 0.2, the model's recall improves significantly (from 85.09% to 89.12%), making it better at catching fraudulent transactions, while accuracy and precision slightly drop. Since fraud detection prioritizes recall, a threshold of 0.2 offers the best trade-off in Model B, despite lower precision."
      ],
      "metadata": {
        "id": "gpT5LyTE_If8"
      }
    },
    {
      "cell_type": "code",
      "source": [
        "# Train final model on entire resampled dataset\n",
        "smote = SMOTE(random_state=42)\n",
        "X_res, y_res = smote.fit_resample(X, y)\n",
        "\n",
        "final_model = XGBClassifier(eval_metric='logloss', random_state=42)\n",
        "final_model.fit(X_res, y_res)\n",
        "\n",
        "# Get actual feature importances\n",
        "importances = final_model.feature_importances_\n",
        "feature_names = X.columns\n",
        "\n",
        "# Create DataFrame\n",
        "fi_df = pd.DataFrame({\n",
        "    \"Feature\": feature_names,\n",
        "    \"Importance\": importances\n",
        "}).sort_values(by=\"Importance\", ascending=True)\n",
        "\n",
        "# Plot with numbers\n",
        "import matplotlib.pyplot as plt\n",
        "import seaborn as sns\n",
        "\n",
        "plt.figure(figsize=(10, 6))\n",
        "ax = sns.barplot(x=\"Importance\", y=\"Feature\", data=fi_df, palette=\"viridis\")\n",
        "\n",
        "# Add scores\n",
        "for i, (val, name) in enumerate(zip(fi_df[\"Importance\"], fi_df[\"Feature\"])):\n",
        "    ax.text(val + 0.005, i, f\"{val:.2f}\", va='center', fontsize=10)\n",
        "\n",
        "plt.title(\"Feature Importance - Model B (XGBoost)\")\n",
        "plt.xlabel(\"Importance Score\")\n",
        "plt.ylabel(\"Feature\")\n",
        "plt.grid(axis='x', linestyle='--', alpha=0.7)\n",
        "plt.tight_layout()\n",
        "plt.show()\n"
      ],
      "metadata": {
        "colab": {
          "base_uri": "https://localhost:8080/",
          "height": 714
        },
        "id": "v36v7uMrvuvy",
        "outputId": "5ad7bdfc-4f37-427e-9fce-dadf587f2c0f"
      },
      "execution_count": 27,
      "outputs": [
        {
          "output_type": "stream",
          "name": "stderr",
          "text": [
            "/tmp/ipython-input-27-4141233925.py:23: FutureWarning: \n",
            "\n",
            "Passing `palette` without assigning `hue` is deprecated and will be removed in v0.14.0. Assign the `y` variable to `hue` and set `legend=False` for the same effect.\n",
            "\n",
            "  ax = sns.barplot(x=\"Importance\", y=\"Feature\", data=fi_df, palette=\"viridis\")\n"
          ]
        },
        {
          "output_type": "display_data",
          "data": {
            "text/plain": [
              "<Figure size 1000x600 with 1 Axes>"
            ],
            "image/png": "[encoded data removed]"
          },
          "metadata": {}
        }
      ]
    },
    {
      "cell_type": "markdown",
      "source": [
        "**CONCLUSION**"
      ],
      "metadata": {
        "id": "7G8cRbpvCDBT"
      }
    },
    {
      "cell_type": "markdown",
      "source": [
        "**MODEL A:**\n",
        "\n",
        "Model A achieves a strong average accuracy of 99.43% and an average recall of 85.09%, indicating reliable detection of fraud cases across folds. Its average precision is 8.49%, which, while low due to class imbalance, is consistent. These metrics suggest that the model balances true positive detection with overall accuracy, making it suitable when maintaining high correctness across all predictions is important."
      ],
      "metadata": {
        "id": "MtmrDsJICymc"
      }
    },
    {
      "cell_type": "markdown",
      "source": [
        "**MODEL B:**\n",
        "Model B demonstrates how adjusting thresholds impacts performance.At threshold 0.5, it achieves 99.48% accuracy, 85.09% recall, and 8.49% precision.At threshold 0.2, recall improves to 89.12% while accuracy slightly drops to 98.94% and precision to 4.5%.The ROC AUC remains stable at 0.9875 across"
      ],
      "metadata": {
        "id": "Cj9E_E_CPfho"
      }
    },
    {
      "cell_type": "markdown",
      "source": [
        " Considering the fraud detection use case, **Model B** proves more reliable due to its flexible threshold-based evaluation, offering a better balance between recall and precision. At a threshold of 0.2, it captures 89.12% of fraudulent transactions, which is critical in minimizing undetected fraud, even though it slightly compromises precision (4.5%) and accuracy (98.94%). The consistent ROC AUC of 0.9875 across thresholds highlights strong and stable model performance. For a financial business where **missing fraud is costlier than investigating false positives**, this model aligns well with the business objective of risk minimization.\n",
        "\n",
        "\n"
      ],
      "metadata": {
        "id": "Pvt8HHTgEdO3"
      }
    },
    {
      "cell_type": "markdown",
      "source": [
        "**Candidate Expectations**\n"
      ],
      "metadata": {
        "id": "9KRdPMXYH1QV"
      }
    },
    {
      "cell_type": "markdown",
      "source": [
        "**Proactive Fraud Detection – Model Execution & Business Insights**"
      ],
      "metadata": {
        "id": "Jzpt8_S6MqPf"
      }
    },
    {
      "cell_type": "markdown",
      "source": [
        "### 1. Data Cleaning: Missing Values, Outliers, and Multicollinearity\n",
        "\n",
        "* **Missing Values**: The dataset was examined and found to have no missing values.\n",
        "* **Outliers**: Financial data (like `amount`, `oldbalanceOrg`, etc.) showed expected variability. No artificial outlier treatment was performed.\n",
        "* **Multicollinearity**: VIF scores for `oldbalanceOrg` and `newbalanceOrig` exceeded 700. However, since we used XGBoost—a tree-based model insensitive to multicollinearity—and both features contributed \\~2% importance, they were retained to preserve model performance.\n",
        "\n",
        "---\n",
        "\n",
        "### 2. Fraud Detection Model Description\n",
        "\n",
        "We implemented two models using **XGBoost** with **5-Fold Stratified Cross-Validation**:\n",
        "\n",
        "* **Model A:** A baseline model using a default threshold of 0.5.\n",
        "* **Model B:** An extended version evaluated across thresholds (0.5, 0.4, 0.3, 0.2) to observe how model metrics change.\n",
        "  **SMOTE** was applied to the training folds to balance fraud and non-fraud transactions.\n",
        "\n",
        "---\n",
        "\n",
        "### 3. Feature Selection\n",
        "\n",
        "* Chosen based on **domain knowledge**, **feature importance**, and **low correlation**.\n",
        "* Final set includes:\n",
        "  `step`, `amount`, `oldbalanceOrg`, `oldbalanceDest`,\n",
        "  `type_CASH_OUT`, `type_DEBIT`, `type_PAYMENT`, `type_TRANSFER`\n",
        "\n",
        "---\n",
        "\n",
        "### 4. Model Performance\n",
        "\n",
        "Best results were observed for **Model B at threshold 0.2**:\n",
        "\n",
        "* **Recall:** 0.8912\n",
        "* **Precision:** 0.0450\n",
        "* **Accuracy:** 0.9894\n",
        "* **ROC AUC:** 0.9875\n",
        "  The model was tuned to prioritize **recall**, which is vital in financial fraud detection to avoid false negatives.\n",
        "\n",
        "---\n",
        "\n",
        "### 5. Key Predictive Features\n",
        "\n",
        "Top contributing features across all folds:\n",
        "\n",
        "1. `amount`\n",
        "2. `oldbalanceOrg`\n",
        "3. `type_TRANSFER`\n",
        "4. `type_CASH_OUT`\n",
        "\n",
        "---\n",
        "\n",
        "### 6. Feature Validity\n",
        "\n",
        "These features align with real-world fraud patterns:\n",
        "\n",
        "* Fraudsters often perform high-value transactions.\n",
        "* Balance depletion from `CASH_OUT` or `TRANSFER` is commonly used to siphon funds.\n",
        "* These factors provide **business sense and interpretability**.\n",
        "\n",
        "---\n",
        "\n",
        "### 7. Infrastructure Prevention Recommendations\n",
        "\n",
        "* By implementing real-time fraud detection engines with dynamic thresholds.\n",
        "* Enforce MFA for high-risk activities.\n",
        "* Use anomaly detection on user transaction behavior.\n",
        "* Secure backend via role-based access and encrypted logs.\n",
        "* Mask sensitive data across systems.\n",
        "\n",
        "---\n",
        "\n",
        "### 8. Measuring Action Effectiveness\n",
        "\n",
        "* Track metrics like:\n",
        "\n",
        "  * ↓ Fraud loss rate\n",
        "  * ↑ Fraud detection recall\n",
        "  * False positive rate trends\n",
        "* Using **A/B testing** or **Before/After Analysis** to validate improvements.\n",
        "* Monitor fraud reports and customer escalation frequency.\n",
        "\n"
      ],
      "metadata": {
        "id": "L4PUBaXMMyS-"
      }
    }
  ]
}